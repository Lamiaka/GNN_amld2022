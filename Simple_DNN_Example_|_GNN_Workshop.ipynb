{
  "nbformat": 4,
  "nbformat_minor": 0,
  "metadata": {
    "colab": {
      "name": "Simple DNN Example | GNN Workshop.ipynb",
      "provenance": [],
      "collapsed_sections": [],
      "include_colab_link": true
    },
    "kernelspec": {
      "name": "python3",
      "display_name": "Python 3"
    },
    "language_info": {
      "name": "python"
    }
  },
  "cells": [
    {
      "cell_type": "markdown",
      "metadata": {
        "id": "view-in-github",
        "colab_type": "text"
      },
      "source": [
        "<a href=\"https://colab.research.google.com/github/Lamiaka/GNN_amld2022/blob/main/Simple_DNN_Example_%7C_GNN_Workshop.ipynb\" target=\"_parent\"><img src=\"https://colab.research.google.com/assets/colab-badge.svg\" alt=\"Open In Colab\"/></a>"
      ]
    },
    {
      "cell_type": "markdown",
      "metadata": {
        "id": "Xa5eNR3noDXi"
      },
      "source": [
        "# Simple DNN Example"
      ]
    },
    {
      "cell_type": "markdown",
      "metadata": {
        "id": "JInHbnF_kogW"
      },
      "source": [
        "# README\n",
        "\n",
        "This is an example colab for Graph Neural Networks for Strucutred Data Workshop @ AMLD by volodya@google.com\n",
        "\n",
        "Link to this colab: https://bit.ly/gnn-str-ex1\n"
      ]
    },
    {
      "cell_type": "code",
      "metadata": {
        "id": "AvlMXg0vn8TQ"
      },
      "source": [
        "from datetime import date\n",
        "import pandas as pd\n",
        "import tensorflow as tf\n",
        "import numpy as np\n",
        "import os\n",
        "\n",
        "from sklearn.preprocessing import StandardScaler"
      ],
      "execution_count": null,
      "outputs": []
    },
    {
      "cell_type": "code",
      "metadata": {
        "colab": {
          "base_uri": "https://localhost:8080/"
        },
        "id": "I74GhpRlpXn_",
        "outputId": "7a84f333-ff52-4570-c9df-64cbce58a05a"
      },
      "source": [
        "!wget 'https://drive.google.com/uc?id=1m3ACccA3GLg5GFg0D9khUNnt_c10gBAK&export=download' -O stocks-with-label_3days.prq"
      ],
      "execution_count": null,
      "outputs": [
        {
          "output_type": "stream",
          "name": "stdout",
          "text": [
            "--2022-03-26 21:52:27--  https://drive.google.com/uc?id=1m3ACccA3GLg5GFg0D9khUNnt_c10gBAK&export=download\n",
            "Resolving drive.google.com (drive.google.com)... 74.125.195.102, 74.125.195.113, 74.125.195.100, ...\n",
            "Connecting to drive.google.com (drive.google.com)|74.125.195.102|:443... connected.\n",
            "HTTP request sent, awaiting response... 303 See Other\n",
            "Location: https://doc-08-5c-docs.googleusercontent.com/docs/securesc/ha0ro937gcuc7l7deffksulhg5h7mbp1/g19qh2478l6f7dom328kjuub74bu2n43/1648331550000/01333786639642341364/*/1m3ACccA3GLg5GFg0D9khUNnt_c10gBAK?e=download [following]\n",
            "Warning: wildcards not supported in HTTP.\n",
            "--2022-03-26 21:52:30--  https://doc-08-5c-docs.googleusercontent.com/docs/securesc/ha0ro937gcuc7l7deffksulhg5h7mbp1/g19qh2478l6f7dom328kjuub74bu2n43/1648331550000/01333786639642341364/*/1m3ACccA3GLg5GFg0D9khUNnt_c10gBAK?e=download\n",
            "Resolving doc-08-5c-docs.googleusercontent.com (doc-08-5c-docs.googleusercontent.com)... 74.125.195.132, 2607:f8b0:400e:c09::84\n",
            "Connecting to doc-08-5c-docs.googleusercontent.com (doc-08-5c-docs.googleusercontent.com)|74.125.195.132|:443... connected.\n",
            "HTTP request sent, awaiting response... 200 OK\n",
            "Length: 15147853 (14M) [application/octet-stream]\n",
            "Saving to: ‘stocks-with-label_3days.prq’\n",
            "\n",
            "stocks-with-label_3 100%[===================>]  14.45M  88.5MB/s    in 0.2s    \n",
            "\n",
            "2022-03-26 21:52:30 (88.5 MB/s) - ‘stocks-with-label_3days.prq’ saved [15147853/15147853]\n",
            "\n"
          ]
        }
      ]
    },
    {
      "cell_type": "code",
      "metadata": {
        "id": "RKHyaKKhvpm8"
      },
      "source": [
        "stocks_df = pd.read_parquet('stocks-with-label_3days.prq')"
      ],
      "execution_count": null,
      "outputs": []
    },
    {
      "cell_type": "markdown",
      "metadata": {
        "id": "scbReEcevrFf"
      },
      "source": [
        "## Explore the dataset"
      ]
    },
    {
      "cell_type": "code",
      "metadata": {
        "id": "89r-kue4vskA",
        "colab": {
          "base_uri": "https://localhost:8080/"
        },
        "outputId": "9715b9a7-88e3-41fd-fe98-78384822ce9e"
      },
      "source": [
        "stocks_df.head(10)"
      ],
      "execution_count": null,
      "outputs": [
        {
          "output_type": "execute_result",
          "data": {
            "text/plain": [
              "       ticker       Date     LABEL       High        Low      Close  \\\n",
              "147348    DIS 1991-04-01  1.025953   7.218523   7.112256   7.127438   \n",
              "23857    NFLX 2011-08-24  1.045937  31.428572  29.928572  30.861429   \n",
              "76492     WMT 2015-03-09  0.987933  71.751297  71.062544  71.355263   \n",
              "100623   MSFT 2006-12-05  0.996064  21.573974  21.302465  21.375845   \n",
              "99527    MSFT 2002-07-31  0.942984  15.208497  14.688873  15.202160   \n",
              "6641     SONY 1999-06-08  1.057229  44.786081  44.487308  44.726326   \n",
              "138733   NVDA 2016-07-21  1.030380  13.350371  13.047793  13.092072   \n",
              "150940    DIS 2005-06-28  0.974879  21.150602  20.866429  20.996336   \n",
              "149439    DIS 1999-07-09  1.015855  21.337273  20.906700  21.145908   \n",
              "16626      UL 2002-02-06  1.012819   9.340154   9.246554   9.255063   \n",
              "\n",
              "             Open     High_1      Low_1    Close_1     Open_1  \n",
              "147348   7.218523   7.279250   7.226117   7.226117   7.241298  \n",
              "23857   31.291430  31.392857  29.155714  31.362858  29.571428  \n",
              "76492   71.105587  71.544652  70.924770  71.105568  71.294977  \n",
              "100623  21.544622  21.662038  21.405204  21.522614  21.449232  \n",
              "99527   15.084928  15.471478  14.996212  15.240181  15.065917  \n",
              "6641    44.726326  44.457423  44.128773  44.308037  44.188528  \n",
              "138733  13.308551  13.409413  13.156034  13.338074  13.210154  \n",
              "150940  20.915144  21.231795  20.679688  20.809595  21.142483  \n",
              "149439  21.289431  21.480797  21.193748  21.289431  21.480797  \n",
              "16626    9.280591   9.416739   9.252230   9.252230   9.416739  "
            ],
            "text/html": [
              "\n",
              "  <div id=\"df-3d0650ac-2cc7-4f79-9a3c-1dc3d8c73a83\">\n",
              "    <div class=\"colab-df-container\">\n",
              "      <div>\n",
              "<style scoped>\n",
              "    .dataframe tbody tr th:only-of-type {\n",
              "        vertical-align: middle;\n",
              "    }\n",
              "\n",
              "    .dataframe tbody tr th {\n",
              "        vertical-align: top;\n",
              "    }\n",
              "\n",
              "    .dataframe thead th {\n",
              "        text-align: right;\n",
              "    }\n",
              "</style>\n",
              "<table border=\"1\" class=\"dataframe\">\n",
              "  <thead>\n",
              "    <tr style=\"text-align: right;\">\n",
              "      <th></th>\n",
              "      <th>ticker</th>\n",
              "      <th>Date</th>\n",
              "      <th>LABEL</th>\n",
              "      <th>High</th>\n",
              "      <th>Low</th>\n",
              "      <th>Close</th>\n",
              "      <th>Open</th>\n",
              "      <th>High_1</th>\n",
              "      <th>Low_1</th>\n",
              "      <th>Close_1</th>\n",
              "      <th>Open_1</th>\n",
              "    </tr>\n",
              "  </thead>\n",
              "  <tbody>\n",
              "    <tr>\n",
              "      <th>147348</th>\n",
              "      <td>DIS</td>\n",
              "      <td>1991-04-01</td>\n",
              "      <td>1.025953</td>\n",
              "      <td>7.218523</td>\n",
              "      <td>7.112256</td>\n",
              "      <td>7.127438</td>\n",
              "      <td>7.218523</td>\n",
              "      <td>7.279250</td>\n",
              "      <td>7.226117</td>\n",
              "      <td>7.226117</td>\n",
              "      <td>7.241298</td>\n",
              "    </tr>\n",
              "    <tr>\n",
              "      <th>23857</th>\n",
              "      <td>NFLX</td>\n",
              "      <td>2011-08-24</td>\n",
              "      <td>1.045937</td>\n",
              "      <td>31.428572</td>\n",
              "      <td>29.928572</td>\n",
              "      <td>30.861429</td>\n",
              "      <td>31.291430</td>\n",
              "      <td>31.392857</td>\n",
              "      <td>29.155714</td>\n",
              "      <td>31.362858</td>\n",
              "      <td>29.571428</td>\n",
              "    </tr>\n",
              "    <tr>\n",
              "      <th>76492</th>\n",
              "      <td>WMT</td>\n",
              "      <td>2015-03-09</td>\n",
              "      <td>0.987933</td>\n",
              "      <td>71.751297</td>\n",
              "      <td>71.062544</td>\n",
              "      <td>71.355263</td>\n",
              "      <td>71.105587</td>\n",
              "      <td>71.544652</td>\n",
              "      <td>70.924770</td>\n",
              "      <td>71.105568</td>\n",
              "      <td>71.294977</td>\n",
              "    </tr>\n",
              "    <tr>\n",
              "      <th>100623</th>\n",
              "      <td>MSFT</td>\n",
              "      <td>2006-12-05</td>\n",
              "      <td>0.996064</td>\n",
              "      <td>21.573974</td>\n",
              "      <td>21.302465</td>\n",
              "      <td>21.375845</td>\n",
              "      <td>21.544622</td>\n",
              "      <td>21.662038</td>\n",
              "      <td>21.405204</td>\n",
              "      <td>21.522614</td>\n",
              "      <td>21.449232</td>\n",
              "    </tr>\n",
              "    <tr>\n",
              "      <th>99527</th>\n",
              "      <td>MSFT</td>\n",
              "      <td>2002-07-31</td>\n",
              "      <td>0.942984</td>\n",
              "      <td>15.208497</td>\n",
              "      <td>14.688873</td>\n",
              "      <td>15.202160</td>\n",
              "      <td>15.084928</td>\n",
              "      <td>15.471478</td>\n",
              "      <td>14.996212</td>\n",
              "      <td>15.240181</td>\n",
              "      <td>15.065917</td>\n",
              "    </tr>\n",
              "    <tr>\n",
              "      <th>6641</th>\n",
              "      <td>SONY</td>\n",
              "      <td>1999-06-08</td>\n",
              "      <td>1.057229</td>\n",
              "      <td>44.786081</td>\n",
              "      <td>44.487308</td>\n",
              "      <td>44.726326</td>\n",
              "      <td>44.726326</td>\n",
              "      <td>44.457423</td>\n",
              "      <td>44.128773</td>\n",
              "      <td>44.308037</td>\n",
              "      <td>44.188528</td>\n",
              "    </tr>\n",
              "    <tr>\n",
              "      <th>138733</th>\n",
              "      <td>NVDA</td>\n",
              "      <td>2016-07-21</td>\n",
              "      <td>1.030380</td>\n",
              "      <td>13.350371</td>\n",
              "      <td>13.047793</td>\n",
              "      <td>13.092072</td>\n",
              "      <td>13.308551</td>\n",
              "      <td>13.409413</td>\n",
              "      <td>13.156034</td>\n",
              "      <td>13.338074</td>\n",
              "      <td>13.210154</td>\n",
              "    </tr>\n",
              "    <tr>\n",
              "      <th>150940</th>\n",
              "      <td>DIS</td>\n",
              "      <td>2005-06-28</td>\n",
              "      <td>0.974879</td>\n",
              "      <td>21.150602</td>\n",
              "      <td>20.866429</td>\n",
              "      <td>20.996336</td>\n",
              "      <td>20.915144</td>\n",
              "      <td>21.231795</td>\n",
              "      <td>20.679688</td>\n",
              "      <td>20.809595</td>\n",
              "      <td>21.142483</td>\n",
              "    </tr>\n",
              "    <tr>\n",
              "      <th>149439</th>\n",
              "      <td>DIS</td>\n",
              "      <td>1999-07-09</td>\n",
              "      <td>1.015855</td>\n",
              "      <td>21.337273</td>\n",
              "      <td>20.906700</td>\n",
              "      <td>21.145908</td>\n",
              "      <td>21.289431</td>\n",
              "      <td>21.480797</td>\n",
              "      <td>21.193748</td>\n",
              "      <td>21.289431</td>\n",
              "      <td>21.480797</td>\n",
              "    </tr>\n",
              "    <tr>\n",
              "      <th>16626</th>\n",
              "      <td>UL</td>\n",
              "      <td>2002-02-06</td>\n",
              "      <td>1.012819</td>\n",
              "      <td>9.340154</td>\n",
              "      <td>9.246554</td>\n",
              "      <td>9.255063</td>\n",
              "      <td>9.280591</td>\n",
              "      <td>9.416739</td>\n",
              "      <td>9.252230</td>\n",
              "      <td>9.252230</td>\n",
              "      <td>9.416739</td>\n",
              "    </tr>\n",
              "  </tbody>\n",
              "</table>\n",
              "</div>\n",
              "      <button class=\"colab-df-convert\" onclick=\"convertToInteractive('df-3d0650ac-2cc7-4f79-9a3c-1dc3d8c73a83')\"\n",
              "              title=\"Convert this dataframe to an interactive table.\"\n",
              "              style=\"display:none;\">\n",
              "        \n",
              "  <svg xmlns=\"http://www.w3.org/2000/svg\" height=\"24px\"viewBox=\"0 0 24 24\"\n",
              "       width=\"24px\">\n",
              "    <path d=\"M0 0h24v24H0V0z\" fill=\"none\"/>\n",
              "    <path d=\"M18.56 5.44l.94 2.06.94-2.06 2.06-.94-2.06-.94-.94-2.06-.94 2.06-2.06.94zm-11 1L8.5 8.5l.94-2.06 2.06-.94-2.06-.94L8.5 2.5l-.94 2.06-2.06.94zm10 10l.94 2.06.94-2.06 2.06-.94-2.06-.94-.94-2.06-.94 2.06-2.06.94z\"/><path d=\"M17.41 7.96l-1.37-1.37c-.4-.4-.92-.59-1.43-.59-.52 0-1.04.2-1.43.59L10.3 9.45l-7.72 7.72c-.78.78-.78 2.05 0 2.83L4 21.41c.39.39.9.59 1.41.59.51 0 1.02-.2 1.41-.59l7.78-7.78 2.81-2.81c.8-.78.8-2.07 0-2.86zM5.41 20L4 18.59l7.72-7.72 1.47 1.35L5.41 20z\"/>\n",
              "  </svg>\n",
              "      </button>\n",
              "      \n",
              "  <style>\n",
              "    .colab-df-container {\n",
              "      display:flex;\n",
              "      flex-wrap:wrap;\n",
              "      gap: 12px;\n",
              "    }\n",
              "\n",
              "    .colab-df-convert {\n",
              "      background-color: #E8F0FE;\n",
              "      border: none;\n",
              "      border-radius: 50%;\n",
              "      cursor: pointer;\n",
              "      display: none;\n",
              "      fill: #1967D2;\n",
              "      height: 32px;\n",
              "      padding: 0 0 0 0;\n",
              "      width: 32px;\n",
              "    }\n",
              "\n",
              "    .colab-df-convert:hover {\n",
              "      background-color: #E2EBFA;\n",
              "      box-shadow: 0px 1px 2px rgba(60, 64, 67, 0.3), 0px 1px 3px 1px rgba(60, 64, 67, 0.15);\n",
              "      fill: #174EA6;\n",
              "    }\n",
              "\n",
              "    [theme=dark] .colab-df-convert {\n",
              "      background-color: #3B4455;\n",
              "      fill: #D2E3FC;\n",
              "    }\n",
              "\n",
              "    [theme=dark] .colab-df-convert:hover {\n",
              "      background-color: #434B5C;\n",
              "      box-shadow: 0px 1px 3px 1px rgba(0, 0, 0, 0.15);\n",
              "      filter: drop-shadow(0px 1px 2px rgba(0, 0, 0, 0.3));\n",
              "      fill: #FFFFFF;\n",
              "    }\n",
              "  </style>\n",
              "\n",
              "      <script>\n",
              "        const buttonEl =\n",
              "          document.querySelector('#df-3d0650ac-2cc7-4f79-9a3c-1dc3d8c73a83 button.colab-df-convert');\n",
              "        buttonEl.style.display =\n",
              "          google.colab.kernel.accessAllowed ? 'block' : 'none';\n",
              "\n",
              "        async function convertToInteractive(key) {\n",
              "          const element = document.querySelector('#df-3d0650ac-2cc7-4f79-9a3c-1dc3d8c73a83');\n",
              "          const dataTable =\n",
              "            await google.colab.kernel.invokeFunction('convertToInteractive',\n",
              "                                                     [key], {});\n",
              "          if (!dataTable) return;\n",
              "\n",
              "          const docLinkHtml = 'Like what you see? Visit the ' +\n",
              "            '<a target=\"_blank\" href=https://colab.research.google.com/notebooks/data_table.ipynb>data table notebook</a>'\n",
              "            + ' to learn more about interactive tables.';\n",
              "          element.innerHTML = '';\n",
              "          dataTable['output_type'] = 'display_data';\n",
              "          await google.colab.output.renderOutput(dataTable, element);\n",
              "          const docLink = document.createElement('div');\n",
              "          docLink.innerHTML = docLinkHtml;\n",
              "          element.appendChild(docLink);\n",
              "        }\n",
              "      </script>\n",
              "    </div>\n",
              "  </div>\n",
              "  "
            ]
          },
          "metadata": {},
          "execution_count": 4
        }
      ]
    },
    {
      "cell_type": "code",
      "metadata": {
        "id": "satu9ug1obL_"
      },
      "source": [
        "# Converting categorical column 'ticker' (stock code) to a number.\n",
        "ticker_column = pd.Categorical(stocks_df['ticker'])\n",
        "stocks_df['ticker'] = ticker_column\n",
        "stocks_df['ticker'] = stocks_df.ticker.cat.codes"
      ],
      "execution_count": null,
      "outputs": []
    },
    {
      "cell_type": "code",
      "metadata": {
        "id": "VKnsKJukph7O",
        "colab": {
          "base_uri": "https://localhost:8080/"
        },
        "outputId": "e0b1b993-6c68-46e0-d827-041468d0d189"
      },
      "source": [
        "split_config = {\n",
        "    'test_dt': pd.Timestamp('2020-01-01'), # 2020 onwards goes into test.\n",
        "    'valid_dt': pd.Timestamp('2015-01-01'),\n",
        "}\n",
        "\n",
        "test_df = stocks_df.query('Date >= @test_dt', local_dict=split_config).copy()\n",
        "train_df = stocks_df.query('Date < @valid_dt', local_dict=split_config).copy()\n",
        "valid_df = stocks_df.query('Date >= @valid_dt and Date < @test_dt', local_dict=split_config).copy()\n",
        "\n",
        "# Fitting the scaller on train\n",
        "std_scaler = StandardScaler()\n",
        "\n",
        "columns_to_scale = list(set(train_df.columns) - {'Date', 'ticker', 'LABEL'})\n",
        "print('Scaling columns: ', columns_to_scale)\n",
        "\n",
        "def convert_df(df, fit_scaler=False):\n",
        "  df.pop('Date')\n",
        "  df.pop('ticker')\n",
        "  label =  df.pop('LABEL')\n",
        "  label = (label > 1.01).astype(int) # Conver to binary\n",
        "\n",
        "  df.fillna(-1, inplace=True)\n",
        "\n",
        "  for c, d in zip(df.columns, df.dtypes):\n",
        "    if d == np.float64:\n",
        "      df[c].astype('float32', copy=False)\n",
        "  \n",
        "  scaler_func = std_scaler.fit_transform if fit_scaler else std_scaler.transform\n",
        "  df[columns_to_scale] = scaler_func(df[columns_to_scale])\n",
        "\n",
        "  dataset = tf.data.Dataset.from_tensor_slices((df[df.columns].values, label.values))\n",
        "  return dataset, df, label\n",
        "\n",
        "train_ds, train_df, train_target = convert_df(train_df, fit_scaler=True)\n",
        "valid_ds, valid_df, valid_target = convert_df(valid_df, fit_scaler=False)\n",
        "\n",
        "print('Train label: ', train_target.value_counts())\n",
        "print('Valid label', valid_target.value_counts())"
      ],
      "execution_count": null,
      "outputs": [
        {
          "output_type": "stream",
          "name": "stdout",
          "text": [
            "Scaling columns:  ['Open_1', 'Low', 'Low_1', 'Close_1', 'High_1', 'Open', 'Close', 'High']\n",
            "Train label:  0    92337\n",
            "1    46923\n",
            "Name: LABEL, dtype: int64\n",
            "Valid label 0    19886\n",
            "1     9048\n",
            "Name: LABEL, dtype: int64\n"
          ]
        }
      ]
    },
    {
      "cell_type": "code",
      "metadata": {
        "id": "5_Yn8-pZqO58",
        "colab": {
          "base_uri": "https://localhost:8080/"
        },
        "outputId": "b563a6d9-9b6e-492f-d8c0-e8494f2e9cb2"
      },
      "source": [
        "activation = tf.keras.layers.LeakyReLU()\n",
        "num_units = 16\n",
        "num_layers = 2\n",
        "dropout = 0.2\n",
        "batch_size = 1024\n",
        "max_epochs = 4\n",
        "\n",
        "layers = []\n",
        "for _ in range(num_layers - 1):\n",
        "  layers.append(tf.keras.layers.Dense(num_units, activation=activation))\n",
        "  if dropout < 1:\n",
        "    layers.append(tf.keras.layers.Dropout(rate=dropout))\n",
        "layers.append(tf.keras.layers.Dense(num_units, activation=activation))\n",
        "\n",
        "model = tf.keras.Sequential([\n",
        "  *layers,\n",
        "  tf.keras.layers.Dense(1, activation='sigmoid'),\n",
        "])\n",
        "\n",
        "model.compile(optimizer='adam',\n",
        "              loss=tf.keras.losses.BinaryCrossentropy(from_logits=False))\n",
        "\n",
        "history = model.fit(\n",
        "    train_ds.batch(batch_size, drop_remainder=True),\n",
        "    epochs=max_epochs, \n",
        "    validation_data=valid_ds.batch(batch_size),\n",
        ")"
      ],
      "execution_count": null,
      "outputs": [
        {
          "output_type": "stream",
          "name": "stdout",
          "text": [
            "Epoch 1/4\n",
            "135/135 [==============================] - 3s 12ms/step - loss: 0.6717 - val_loss: 0.6788\n",
            "Epoch 2/4\n",
            "135/135 [==============================] - 1s 10ms/step - loss: 0.6417 - val_loss: 0.6292\n",
            "Epoch 3/4\n",
            "135/135 [==============================] - 1s 10ms/step - loss: 0.6391 - val_loss: 0.6231\n",
            "Epoch 4/4\n",
            "135/135 [==============================] - 1s 9ms/step - loss: 0.6384 - val_loss: 0.6225\n"
          ]
        }
      ]
    },
    {
      "cell_type": "code",
      "metadata": {
        "id": "rjrPG1EVVeAj",
        "colab": {
          "base_uri": "https://localhost:8080/"
        },
        "outputId": "52e14947-e25e-4ca5-db7d-3ef2e957302e"
      },
      "source": [
        "# Evaluate on TEST.\n",
        "test_ds, _, test_target = convert_df(test_df.copy(), fit_scaler=False)\n",
        "model.evaluate(test_ds.batch(batch_size))"
      ],
      "execution_count": null,
      "outputs": [
        {
          "output_type": "stream",
          "name": "stdout",
          "text": [
            "9/9 [==============================] - 0s 6ms/step - loss: 0.6704\n"
          ]
        },
        {
          "output_type": "execute_result",
          "data": {
            "text/plain": [
              "0.6703703999519348"
            ]
          },
          "metadata": {},
          "execution_count": 8
        }
      ]
    },
    {
      "cell_type": "code",
      "metadata": {
        "id": "ValiWBdSqJAV",
        "colab": {
          "base_uri": "https://localhost:8080/",
          "height": 1000
        },
        "outputId": "58edbb73-e3e0-4142-f719-dc2c97cf563e"
      },
      "source": [
        "# Plot the distribution of the scores.\n",
        "\n",
        "import matplotlib.pyplot as plt\n",
        "import seaborn as sb\n",
        "\n",
        "\n",
        "def plot_distribution(model, ds, labels):\n",
        "  scores = model.predict(ds.batch(batch_size))\n",
        "\n",
        "  mn = scores.min()\n",
        "  mx = scores.max()\n",
        "\n",
        "  fig = plt.figure(figsize=(10,10))\n",
        "  ax = fig.add_subplot(311)\n",
        "  plt.title('True')\n",
        "  sb.distplot(scores[labels > 0.5])\n",
        "  plt.xlim([mn, mx])\n",
        "\n",
        "\n",
        "  ax = fig.add_subplot(312)\n",
        "  plt.title('False')\n",
        "  sb.distplot(scores[labels < 0.5])\n",
        "\n",
        "  plt.xlim([mn, mx])\n",
        "  plt.show()\n",
        "\n",
        "\n",
        "plot_distribution(model, train_ds, train_target)\n",
        "plot_distribution(model, valid_ds, valid_target)\n",
        "plot_distribution(model, test_ds, test_target)"
      ],
      "execution_count": null,
      "outputs": [
        {
          "output_type": "stream",
          "name": "stderr",
          "text": [
            "/usr/local/lib/python3.7/dist-packages/seaborn/distributions.py:2619: FutureWarning: `distplot` is a deprecated function and will be removed in a future version. Please adapt your code to use either `displot` (a figure-level function with similar flexibility) or `histplot` (an axes-level function for histograms).\n",
            "  warnings.warn(msg, FutureWarning)\n",
            "/usr/local/lib/python3.7/dist-packages/seaborn/distributions.py:2619: FutureWarning: `distplot` is a deprecated function and will be removed in a future version. Please adapt your code to use either `displot` (a figure-level function with similar flexibility) or `histplot` (an axes-level function for histograms).\n",
            "  warnings.warn(msg, FutureWarning)\n"
          ]
        },
        {
          "output_type": "display_data",
          "data": {
            "text/plain": [
              "<Figure size 720x720 with 2 Axes>"
            ],
            "image/png": "[encoded data removed]"
          },
          "metadata": {
            "needs_background": "light"
          }
        },
        {
          "output_type": "stream",
          "name": "stderr",
          "text": [
            "/usr/local/lib/python3.7/dist-packages/seaborn/distributions.py:2619: FutureWarning: `distplot` is a deprecated function and will be removed in a future version. Please adapt your code to use either `displot` (a figure-level function with similar flexibility) or `histplot` (an axes-level function for histograms).\n",
            "  warnings.warn(msg, FutureWarning)\n",
            "/usr/local/lib/python3.7/dist-packages/seaborn/distributions.py:2619: FutureWarning: `distplot` is a deprecated function and will be removed in a future version. Please adapt your code to use either `displot` (a figure-level function with similar flexibility) or `histplot` (an axes-level function for histograms).\n",
            "  warnings.warn(msg, FutureWarning)\n"
          ]
        },
        {
          "output_type": "display_data",
          "data": {
            "text/plain": [
              "<Figure size 720x720 with 2 Axes>"
            ],
            "image/png": "[encoded data removed]"
          },
          "metadata": {
            "needs_background": "light"
          }
        },
        {
          "output_type": "stream",
          "name": "stderr",
          "text": [
            "/usr/local/lib/python3.7/dist-packages/seaborn/distributions.py:2619: FutureWarning: `distplot` is a deprecated function and will be removed in a future version. Please adapt your code to use either `displot` (a figure-level function with similar flexibility) or `histplot` (an axes-level function for histograms).\n",
            "  warnings.warn(msg, FutureWarning)\n",
            "/usr/local/lib/python3.7/dist-packages/seaborn/distributions.py:2619: FutureWarning: `distplot` is a deprecated function and will be removed in a future version. Please adapt your code to use either `displot` (a figure-level function with similar flexibility) or `histplot` (an axes-level function for histograms).\n",
            "  warnings.warn(msg, FutureWarning)\n"
          ]
        },
        {
          "output_type": "display_data",
          "data": {
            "text/plain": [
              "<Figure size 720x720 with 2 Axes>"
            ],
            "image/png": "[encoded data removed]"
          },
          "metadata": {
            "needs_background": "light"
          }
        }
      ]
    },
    {
      "cell_type": "code",
      "metadata": {
        "id": "hI2u3ocpWYXq"
      },
      "source": [
        ""
      ],
      "execution_count": null,
      "outputs": []
    }
  ]
}