{
  "nbformat": 4,
  "nbformat_minor": 0,
  "metadata": {
    "colab": {
      "name": "Solution to Create Graphs | AMLD - GNNs for Structured Data Workshop by Volodya.ipynb",
      "provenance": [],
      "collapsed_sections": [],
      "include_colab_link": true
    },
    "kernelspec": {
      "name": "python3",
      "display_name": "Python 3"
    },
    "language_info": {
      "name": "python"
    }
  },
  "cells": [
    {
      "cell_type": "markdown",
      "metadata": {
        "id": "view-in-github",
        "colab_type": "text"
      },
      "source": [
        "<a href=\"https://colab.research.google.com/github/Lamiaka/GNN_amld2022/blob/main/Solution_to_Create_Graphs_%7C_AMLD_GNNs_for_Structured_Data_Workshop_by_Volodya.ipynb\" target=\"_parent\"><img src=\"https://colab.research.google.com/assets/colab-badge.svg\" alt=\"Open In Colab\"/></a>"
      ]
    },
    {
      "cell_type": "markdown",
      "metadata": {
        "id": "Imi1_Id_kDH0"
      },
      "source": [
        "# README\n",
        "\n",
        "## A solution to the Exercise - Greating Graphs\n",
        "\n",
        "This is an example colab for Graph Neural Networks for Structured Data Workshop @ AMLD by volodya@google.com\n",
        "\n",
        "Link to this colab: https://bit.ly/gnn-str-ex-2-solution\n",
        "\n"
      ]
    },
    {
      "cell_type": "code",
      "metadata": {
        "colab": {
          "base_uri": "https://localhost:8080/",
          "height": 1000
        },
        "id": "BrJ1hCBCIC2G",
        "outputId": "dbbac830-93d5-4a57-e49e-729521be0fad"
      },
      "source": [
        "!pip install folium==0.8.3 \"imgaug<0.2.7,>=0.2.5\" spektral\n",
        "\n",
        "!wget 'https://drive.google.com/uc?id=1m3ACccA3GLg5GFg0D9khUNnt_c10gBAK&export=download' -O stocks-with-label_3days.prq\n",
        "\n",
        "# NOTE: When running for the first time, you will get an error asking to restart runtime - click `Restart Runtime` button to do so and rerun the cells."
      ],
      "execution_count": null,
      "outputs": [
        {
          "output_type": "stream",
          "name": "stdout",
          "text": [
            "Requirement already satisfied: folium==0.8.3 in /usr/local/lib/python3.7/dist-packages (0.8.3)\n",
            "Collecting imgaug<0.2.7,>=0.2.5\n",
            "  Downloading imgaug-0.2.6.tar.gz (631 kB)\n",
            "\u001b[K     |████████████████████████████████| 631 kB 6.8 MB/s \n",
            "\u001b[?25hCollecting spektral\n",
            "  Downloading spektral-1.0.8-py3-none-any.whl (123 kB)\n",
            "\u001b[K     |████████████████████████████████| 123 kB 12.0 MB/s \n",
            "\u001b[?25hRequirement already satisfied: numpy in /usr/local/lib/python3.7/dist-packages (from folium==0.8.3) (1.21.5)\n",
            "Requirement already satisfied: six in /usr/local/lib/python3.7/dist-packages (from folium==0.8.3) (1.15.0)\n",
            "Requirement already satisfied: requests in /usr/local/lib/python3.7/dist-packages (from folium==0.8.3) (2.23.0)\n",
            "Requirement already satisfied: jinja2 in /usr/local/lib/python3.7/dist-packages (from folium==0.8.3) (2.11.3)\n",
            "Requirement already satisfied: branca>=0.3.0 in /usr/local/lib/python3.7/dist-packages (from folium==0.8.3) (0.4.2)\n",
            "Requirement already satisfied: scipy in /usr/local/lib/python3.7/dist-packages (from imgaug<0.2.7,>=0.2.5) (1.4.1)\n",
            "Requirement already satisfied: scikit-image>=0.11.0 in /usr/local/lib/python3.7/dist-packages (from imgaug<0.2.7,>=0.2.5) (0.18.3)\n",
            "Requirement already satisfied: imageio>=2.3.0 in /usr/local/lib/python3.7/dist-packages (from scikit-image>=0.11.0->imgaug<0.2.7,>=0.2.5) (2.4.1)\n",
            "Requirement already satisfied: matplotlib!=3.0.0,>=2.0.0 in /usr/local/lib/python3.7/dist-packages (from scikit-image>=0.11.0->imgaug<0.2.7,>=0.2.5) (3.2.2)\n",
            "Requirement already satisfied: pillow!=7.1.0,!=7.1.1,>=4.3.0 in /usr/local/lib/python3.7/dist-packages (from scikit-image>=0.11.0->imgaug<0.2.7,>=0.2.5) (7.1.2)\n",
            "Requirement already satisfied: tifffile>=2019.7.26 in /usr/local/lib/python3.7/dist-packages (from scikit-image>=0.11.0->imgaug<0.2.7,>=0.2.5) (2021.11.2)\n",
            "Requirement already satisfied: PyWavelets>=1.1.1 in /usr/local/lib/python3.7/dist-packages (from scikit-image>=0.11.0->imgaug<0.2.7,>=0.2.5) (1.3.0)\n",
            "Requirement already satisfied: networkx>=2.0 in /usr/local/lib/python3.7/dist-packages (from scikit-image>=0.11.0->imgaug<0.2.7,>=0.2.5) (2.6.3)\n",
            "Requirement already satisfied: python-dateutil>=2.1 in /usr/local/lib/python3.7/dist-packages (from matplotlib!=3.0.0,>=2.0.0->scikit-image>=0.11.0->imgaug<0.2.7,>=0.2.5) (2.8.2)\n",
            "Requirement already satisfied: kiwisolver>=1.0.1 in /usr/local/lib/python3.7/dist-packages (from matplotlib!=3.0.0,>=2.0.0->scikit-image>=0.11.0->imgaug<0.2.7,>=0.2.5) (1.4.0)\n",
            "Requirement already satisfied: cycler>=0.10 in /usr/local/lib/python3.7/dist-packages (from matplotlib!=3.0.0,>=2.0.0->scikit-image>=0.11.0->imgaug<0.2.7,>=0.2.5) (0.11.0)\n",
            "Requirement already satisfied: pyparsing!=2.0.4,!=2.1.2,!=2.1.6,>=2.0.1 in /usr/local/lib/python3.7/dist-packages (from matplotlib!=3.0.0,>=2.0.0->scikit-image>=0.11.0->imgaug<0.2.7,>=0.2.5) (3.0.7)\n",
            "Requirement already satisfied: typing-extensions in /usr/local/lib/python3.7/dist-packages (from kiwisolver>=1.0.1->matplotlib!=3.0.0,>=2.0.0->scikit-image>=0.11.0->imgaug<0.2.7,>=0.2.5) (3.10.0.2)\n",
            "Requirement already satisfied: tensorflow>=2.1.0 in /usr/local/lib/python3.7/dist-packages (from spektral) (2.8.0)\n",
            "Requirement already satisfied: tqdm in /usr/local/lib/python3.7/dist-packages (from spektral) (4.63.0)\n",
            "Requirement already satisfied: scikit-learn in /usr/local/lib/python3.7/dist-packages (from spektral) (1.0.2)\n",
            "Requirement already satisfied: lxml in /usr/local/lib/python3.7/dist-packages (from spektral) (4.2.6)\n",
            "Requirement already satisfied: pandas in /usr/local/lib/python3.7/dist-packages (from spektral) (1.3.5)\n",
            "Collecting numpy\n",
            "  Downloading numpy-1.19.5-cp37-cp37m-manylinux2010_x86_64.whl (14.8 MB)\n",
            "\u001b[K     |████████████████████████████████| 14.8 MB 23.2 MB/s \n",
            "\u001b[?25hRequirement already satisfied: joblib in /usr/local/lib/python3.7/dist-packages (from spektral) (1.1.0)\n",
            "Requirement already satisfied: setuptools in /usr/local/lib/python3.7/dist-packages (from tensorflow>=2.1.0->spektral) (57.4.0)\n",
            "Requirement already satisfied: wrapt>=1.11.0 in /usr/local/lib/python3.7/dist-packages (from tensorflow>=2.1.0->spektral) (1.14.0)\n",
            "Requirement already satisfied: astunparse>=1.6.0 in /usr/local/lib/python3.7/dist-packages (from tensorflow>=2.1.0->spektral) (1.6.3)\n",
            "Requirement already satisfied: termcolor>=1.1.0 in /usr/local/lib/python3.7/dist-packages (from tensorflow>=2.1.0->spektral) (1.1.0)\n",
            "Requirement already satisfied: libclang>=9.0.1 in /usr/local/lib/python3.7/dist-packages (from tensorflow>=2.1.0->spektral) (13.0.0)\n",
            "Collecting tf-estimator-nightly==2.8.0.dev2021122109\n",
            "  Downloading tf_estimator_nightly-2.8.0.dev2021122109-py2.py3-none-any.whl (462 kB)\n",
            "\u001b[K     |████████████████████████████████| 462 kB 41.3 MB/s \n",
            "\u001b[?25hRequirement already satisfied: grpcio<2.0,>=1.24.3 in /usr/local/lib/python3.7/dist-packages (from tensorflow>=2.1.0->spektral) (1.44.0)\n",
            "Requirement already satisfied: absl-py>=0.4.0 in /usr/local/lib/python3.7/dist-packages (from tensorflow>=2.1.0->spektral) (1.0.0)\n",
            "Requirement already satisfied: keras<2.9,>=2.8.0rc0 in /usr/local/lib/python3.7/dist-packages (from tensorflow>=2.1.0->spektral) (2.8.0)\n",
            "Requirement already satisfied: google-pasta>=0.1.1 in /usr/local/lib/python3.7/dist-packages (from tensorflow>=2.1.0->spektral) (0.2.0)\n",
            "Requirement already satisfied: keras-preprocessing>=1.1.1 in /usr/local/lib/python3.7/dist-packages (from tensorflow>=2.1.0->spektral) (1.1.2)\n",
            "Requirement already satisfied: protobuf>=3.9.2 in /usr/local/lib/python3.7/dist-packages (from tensorflow>=2.1.0->spektral) (3.17.3)\n",
            "Requirement already satisfied: opt-einsum>=2.3.2 in /usr/local/lib/python3.7/dist-packages (from tensorflow>=2.1.0->spektral) (3.3.0)\n",
            "Requirement already satisfied: h5py>=2.9.0 in /usr/local/lib/python3.7/dist-packages (from tensorflow>=2.1.0->spektral) (3.1.0)\n",
            "Requirement already satisfied: tensorflow-io-gcs-filesystem>=0.23.1 in /usr/local/lib/python3.7/dist-packages (from tensorflow>=2.1.0->spektral) (0.24.0)\n",
            "Requirement already satisfied: gast>=0.2.1 in /usr/local/lib/python3.7/dist-packages (from tensorflow>=2.1.0->spektral) (0.5.3)\n",
            "Collecting tensorflow>=2.1.0\n",
            "  Downloading tensorflow-2.7.1-cp37-cp37m-manylinux2010_x86_64.whl (495.0 MB)\n",
            "\u001b[K     |████████████████████████████████| 495.0 MB 28 kB/s \n",
            "\u001b[?25hCollecting keras<2.8,>=2.7.0rc0\n",
            "  Downloading keras-2.7.0-py2.py3-none-any.whl (1.3 MB)\n",
            "\u001b[K     |████████████████████████████████| 1.3 MB 47.0 MB/s \n",
            "\u001b[?25hRequirement already satisfied: flatbuffers<3.0,>=1.12 in /usr/local/lib/python3.7/dist-packages (from tensorflow>=2.1.0->spektral) (2.0)\n",
            "Collecting gast<0.5.0,>=0.2.1\n",
            "  Downloading gast-0.4.0-py3-none-any.whl (9.8 kB)\n",
            "Requirement already satisfied: wheel<1.0,>=0.32.0 in /usr/local/lib/python3.7/dist-packages (from tensorflow>=2.1.0->spektral) (0.37.1)\n",
            "Requirement already satisfied: tensorboard~=2.6 in /usr/local/lib/python3.7/dist-packages (from tensorflow>=2.1.0->spektral) (2.8.0)\n",
            "Collecting tensorflow-estimator<2.8,~=2.7.0rc0\n",
            "  Downloading tensorflow_estimator-2.7.0-py2.py3-none-any.whl (463 kB)\n",
            "\u001b[K     |████████████████████████████████| 463 kB 35.5 MB/s \n",
            "\u001b[?25hRequirement already satisfied: cached-property in /usr/local/lib/python3.7/dist-packages (from h5py>=2.9.0->tensorflow>=2.1.0->spektral) (1.5.2)\n",
            "Requirement already satisfied: werkzeug>=0.11.15 in /usr/local/lib/python3.7/dist-packages (from tensorboard~=2.6->tensorflow>=2.1.0->spektral) (1.0.1)\n",
            "Requirement already satisfied: google-auth-oauthlib<0.5,>=0.4.1 in /usr/local/lib/python3.7/dist-packages (from tensorboard~=2.6->tensorflow>=2.1.0->spektral) (0.4.6)\n",
            "Requirement already satisfied: tensorboard-plugin-wit>=1.6.0 in /usr/local/lib/python3.7/dist-packages (from tensorboard~=2.6->tensorflow>=2.1.0->spektral) (1.8.1)\n",
            "Requirement already satisfied: tensorboard-data-server<0.7.0,>=0.6.0 in /usr/local/lib/python3.7/dist-packages (from tensorboard~=2.6->tensorflow>=2.1.0->spektral) (0.6.1)\n",
            "Requirement already satisfied: google-auth<3,>=1.6.3 in /usr/local/lib/python3.7/dist-packages (from tensorboard~=2.6->tensorflow>=2.1.0->spektral) (1.35.0)\n",
            "Requirement already satisfied: markdown>=2.6.8 in /usr/local/lib/python3.7/dist-packages (from tensorboard~=2.6->tensorflow>=2.1.0->spektral) (3.3.6)\n",
            "Requirement already satisfied: pyasn1-modules>=0.2.1 in /usr/local/lib/python3.7/dist-packages (from google-auth<3,>=1.6.3->tensorboard~=2.6->tensorflow>=2.1.0->spektral) (0.2.8)\n",
            "Requirement already satisfied: cachetools<5.0,>=2.0.0 in /usr/local/lib/python3.7/dist-packages (from google-auth<3,>=1.6.3->tensorboard~=2.6->tensorflow>=2.1.0->spektral) (4.2.4)\n",
            "Requirement already satisfied: rsa<5,>=3.1.4 in /usr/local/lib/python3.7/dist-packages (from google-auth<3,>=1.6.3->tensorboard~=2.6->tensorflow>=2.1.0->spektral) (4.8)\n",
            "Requirement already satisfied: requests-oauthlib>=0.7.0 in /usr/local/lib/python3.7/dist-packages (from google-auth-oauthlib<0.5,>=0.4.1->tensorboard~=2.6->tensorflow>=2.1.0->spektral) (1.3.1)\n",
            "Requirement already satisfied: importlib-metadata>=4.4 in /usr/local/lib/python3.7/dist-packages (from markdown>=2.6.8->tensorboard~=2.6->tensorflow>=2.1.0->spektral) (4.11.3)\n",
            "Requirement already satisfied: zipp>=0.5 in /usr/local/lib/python3.7/dist-packages (from importlib-metadata>=4.4->markdown>=2.6.8->tensorboard~=2.6->tensorflow>=2.1.0->spektral) (3.7.0)\n",
            "Requirement already satisfied: pyasn1<0.5.0,>=0.4.6 in /usr/local/lib/python3.7/dist-packages (from pyasn1-modules>=0.2.1->google-auth<3,>=1.6.3->tensorboard~=2.6->tensorflow>=2.1.0->spektral) (0.4.8)\n",
            "Requirement already satisfied: certifi>=2017.4.17 in /usr/local/lib/python3.7/dist-packages (from requests->folium==0.8.3) (2021.10.8)\n",
            "Requirement already satisfied: chardet<4,>=3.0.2 in /usr/local/lib/python3.7/dist-packages (from requests->folium==0.8.3) (3.0.4)\n",
            "Requirement already satisfied: idna<3,>=2.5 in /usr/local/lib/python3.7/dist-packages (from requests->folium==0.8.3) (2.10)\n",
            "Requirement already satisfied: urllib3!=1.25.0,!=1.25.1,<1.26,>=1.21.1 in /usr/local/lib/python3.7/dist-packages (from requests->folium==0.8.3) (1.24.3)\n",
            "Requirement already satisfied: oauthlib>=3.0.0 in /usr/local/lib/python3.7/dist-packages (from requests-oauthlib>=0.7.0->google-auth-oauthlib<0.5,>=0.4.1->tensorboard~=2.6->tensorflow>=2.1.0->spektral) (3.2.0)\n",
            "Requirement already satisfied: MarkupSafe>=0.23 in /usr/local/lib/python3.7/dist-packages (from jinja2->folium==0.8.3) (2.0.1)\n",
            "Requirement already satisfied: pytz>=2017.3 in /usr/local/lib/python3.7/dist-packages (from pandas->spektral) (2018.9)\n",
            "Requirement already satisfied: threadpoolctl>=2.0.0 in /usr/local/lib/python3.7/dist-packages (from scikit-learn->spektral) (3.1.0)\n",
            "Building wheels for collected packages: imgaug\n",
            "  Building wheel for imgaug (setup.py) ... \u001b[?25l\u001b[?25hdone\n",
            "  Created wheel for imgaug: filename=imgaug-0.2.6-py3-none-any.whl size=654017 sha256=6a327067215cfe0a52cafed4434128381733c14da0d797528e50aedb2d8b8aee\n",
            "  Stored in directory: /root/.cache/pip/wheels/89/72/98/3ebfdba1069a9a8eaaa7ae7265cfd67d63ef0197aaee2e5f9c\n",
            "Successfully built imgaug\n",
            "Installing collected packages: numpy, tensorflow-estimator, keras, gast, tensorflow, spektral, imgaug\n",
            "  Attempting uninstall: numpy\n",
            "    Found existing installation: numpy 1.21.5\n",
            "    Uninstalling numpy-1.21.5:\n",
            "      Successfully uninstalled numpy-1.21.5\n",
            "  Attempting uninstall: tensorflow-estimator\n",
            "    Found existing installation: tensorflow-estimator 2.8.0\n",
            "    Uninstalling tensorflow-estimator-2.8.0:\n",
            "      Successfully uninstalled tensorflow-estimator-2.8.0\n",
            "  Attempting uninstall: keras\n",
            "    Found existing installation: keras 2.8.0\n",
            "    Uninstalling keras-2.8.0:\n",
            "      Successfully uninstalled keras-2.8.0\n",
            "  Attempting uninstall: gast\n",
            "    Found existing installation: gast 0.5.3\n",
            "    Uninstalling gast-0.5.3:\n",
            "      Successfully uninstalled gast-0.5.3\n",
            "  Attempting uninstall: tensorflow\n",
            "    Found existing installation: tensorflow 2.8.0\n",
            "    Uninstalling tensorflow-2.8.0:\n",
            "      Successfully uninstalled tensorflow-2.8.0\n",
            "  Attempting uninstall: imgaug\n",
            "    Found existing installation: imgaug 0.2.9\n",
            "    Uninstalling imgaug-0.2.9:\n",
            "      Successfully uninstalled imgaug-0.2.9\n",
            "\u001b[31mERROR: pip's dependency resolver does not currently take into account all the packages that are installed. This behaviour is the source of the following dependency conflicts.\n",
            "datascience 0.10.6 requires folium==0.2.1, but you have folium 0.8.3 which is incompatible.\u001b[0m\n",
            "Successfully installed gast-0.4.0 imgaug-0.2.6 keras-2.7.0 numpy-1.19.5 spektral-1.0.8 tensorflow-2.7.1 tensorflow-estimator-2.7.0\n"
          ]
        },
        {
          "output_type": "display_data",
          "data": {
            "application/vnd.colab-display-data+json": {
              "pip_warning": {
                "packages": [
                  "numpy"
                ]
              }
            }
          },
          "metadata": {}
        },
        {
          "output_type": "stream",
          "name": "stdout",
          "text": [
            "--2022-03-23 19:50:53--  https://drive.google.com/uc?id=1m3ACccA3GLg5GFg0D9khUNnt_c10gBAK&export=download\n",
            "Resolving drive.google.com (drive.google.com)... 142.250.141.100, 142.250.141.138, 142.250.141.139, ...\n",
            "Connecting to drive.google.com (drive.google.com)|142.250.141.100|:443... connected.\n",
            "HTTP request sent, awaiting response... 303 See Other\n",
            "Location: https://doc-08-5c-docs.googleusercontent.com/docs/securesc/ha0ro937gcuc7l7deffksulhg5h7mbp1/15i4u9mentvl9h7l90dhfeh2ilt8bv2l/1648065000000/01333786639642341364/*/1m3ACccA3GLg5GFg0D9khUNnt_c10gBAK?e=download [following]\n",
            "Warning: wildcards not supported in HTTP.\n",
            "--2022-03-23 19:50:54--  https://doc-08-5c-docs.googleusercontent.com/docs/securesc/ha0ro937gcuc7l7deffksulhg5h7mbp1/15i4u9mentvl9h7l90dhfeh2ilt8bv2l/1648065000000/01333786639642341364/*/1m3ACccA3GLg5GFg0D9khUNnt_c10gBAK?e=download\n",
            "Resolving doc-08-5c-docs.googleusercontent.com (doc-08-5c-docs.googleusercontent.com)... 142.250.141.132, 2607:f8b0:4023:c0b::84\n",
            "Connecting to doc-08-5c-docs.googleusercontent.com (doc-08-5c-docs.googleusercontent.com)|142.250.141.132|:443... connected.\n",
            "HTTP request sent, awaiting response... 200 OK\n",
            "Length: 15147853 (14M) [application/octet-stream]\n",
            "Saving to: ‘stocks-with-label_3days.prq’\n",
            "\n",
            "stocks-with-label_3 100%[===================>]  14.45M  9.45MB/s    in 1.5s    \n",
            "\n",
            "2022-03-23 19:50:57 (9.45 MB/s) - ‘stocks-with-label_3days.prq’ saved [15147853/15147853]\n",
            "\n"
          ]
        }
      ]
    },
    {
      "cell_type": "code",
      "metadata": {
        "id": "GEcDkiMGIG3l"
      },
      "source": [
        "import tensorflow as tf\n",
        "from datetime import date\n",
        "import pandas as pd\n",
        "import numpy as np\n",
        "import os\n",
        "\n",
        "from typing import Dict, List, Text\n",
        "\n",
        "import matplotlib.pyplot as plt\n",
        "import seaborn as sb\n",
        "\n",
        "from sklearn.preprocessing import StandardScaler\n",
        "\n",
        "import spektral\n",
        "\n",
        "import tqdm\n",
        "\n",
        "pd.options.display.float_format = '{:,.2f}'.format"
      ],
      "execution_count": null,
      "outputs": []
    },
    {
      "cell_type": "code",
      "metadata": {
        "colab": {
          "base_uri": "https://localhost:8080/",
          "height": 204
        },
        "id": "DQ6z8QvmIQEI",
        "outputId": "5ed0f1c5-32da-464f-b543-881c1d85dc64"
      },
      "source": [
        "stocks_df = pd.read_parquet('stocks-with-label_3days.prq')\n",
        "\n",
        "stocks_df.sample(5)"
      ],
      "execution_count": null,
      "outputs": [
        {
          "output_type": "execute_result",
          "data": {
            "text/html": [
              "<div>\n",
              "<style scoped>\n",
              "    .dataframe tbody tr th:only-of-type {\n",
              "        vertical-align: middle;\n",
              "    }\n",
              "\n",
              "    .dataframe tbody tr th {\n",
              "        vertical-align: top;\n",
              "    }\n",
              "\n",
              "    .dataframe thead th {\n",
              "        text-align: right;\n",
              "    }\n",
              "</style>\n",
              "<table border=\"1\" class=\"dataframe\">\n",
              "  <thead>\n",
              "    <tr style=\"text-align: right;\">\n",
              "      <th></th>\n",
              "      <th>ticker</th>\n",
              "      <th>Date</th>\n",
              "      <th>LABEL</th>\n",
              "      <th>High</th>\n",
              "      <th>Low</th>\n",
              "      <th>Close</th>\n",
              "      <th>Open</th>\n",
              "      <th>High_1</th>\n",
              "      <th>Low_1</th>\n",
              "      <th>Close_1</th>\n",
              "      <th>Open_1</th>\n",
              "    </tr>\n",
              "  </thead>\n",
              "  <tbody>\n",
              "    <tr>\n",
              "      <th>154013</th>\n",
              "      <td>DIS</td>\n",
              "      <td>2017-09-12</td>\n",
              "      <td>1.01</td>\n",
              "      <td>94.89</td>\n",
              "      <td>93.71</td>\n",
              "      <td>94.44</td>\n",
              "      <td>94.15</td>\n",
              "      <td>94.56</td>\n",
              "      <td>93.54</td>\n",
              "      <td>93.67</td>\n",
              "      <td>94.45</td>\n",
              "    </tr>\n",
              "    <tr>\n",
              "      <th>78961</th>\n",
              "      <td>JNJ</td>\n",
              "      <td>1965-06-17</td>\n",
              "      <td>1.04</td>\n",
              "      <td>0.09</td>\n",
              "      <td>0.09</td>\n",
              "      <td>0.09</td>\n",
              "      <td>0.00</td>\n",
              "      <td>0.09</td>\n",
              "      <td>0.09</td>\n",
              "      <td>0.09</td>\n",
              "      <td>0.00</td>\n",
              "    </tr>\n",
              "    <tr>\n",
              "      <th>152843</th>\n",
              "      <td>DIS</td>\n",
              "      <td>2013-01-18</td>\n",
              "      <td>1.01</td>\n",
              "      <td>47.58</td>\n",
              "      <td>47.10</td>\n",
              "      <td>47.58</td>\n",
              "      <td>47.49</td>\n",
              "      <td>47.91</td>\n",
              "      <td>47.13</td>\n",
              "      <td>47.65</td>\n",
              "      <td>47.13</td>\n",
              "    </tr>\n",
              "    <tr>\n",
              "      <th>35883</th>\n",
              "      <td>HD</td>\n",
              "      <td>1995-11-03</td>\n",
              "      <td>0.99</td>\n",
              "      <td>5.83</td>\n",
              "      <td>5.72</td>\n",
              "      <td>5.76</td>\n",
              "      <td>5.76</td>\n",
              "      <td>5.74</td>\n",
              "      <td>5.42</td>\n",
              "      <td>5.74</td>\n",
              "      <td>5.42</td>\n",
              "    </tr>\n",
              "    <tr>\n",
              "      <th>166950</th>\n",
              "      <td>BABA</td>\n",
              "      <td>2020-10-26</td>\n",
              "      <td>1.01</td>\n",
              "      <td>315.46</td>\n",
              "      <td>303.20</td>\n",
              "      <td>306.87</td>\n",
              "      <td>309.92</td>\n",
              "      <td>310.33</td>\n",
              "      <td>304.06</td>\n",
              "      <td>309.92</td>\n",
              "      <td>307.27</td>\n",
              "    </tr>\n",
              "  </tbody>\n",
              "</table>\n",
              "</div>"
            ],
            "text/plain": [
              "       ticker       Date  LABEL   High  ...  High_1  Low_1  Close_1  Open_1\n",
              "154013    DIS 2017-09-12   1.01  94.89  ...   94.56  93.54    93.67   94.45\n",
              "78961     JNJ 1965-06-17   1.04   0.09  ...    0.09   0.09     0.09    0.00\n",
              "152843    DIS 2013-01-18   1.01  47.58  ...   47.91  47.13    47.65   47.13\n",
              "35883      HD 1995-11-03   0.99   5.83  ...    5.74   5.42     5.74    5.42\n",
              "166950   BABA 2020-10-26   1.01 315.46  ...  310.33 304.06   309.92  307.27\n",
              "\n",
              "[5 rows x 11 columns]"
            ]
          },
          "metadata": {},
          "execution_count": 3
        }
      ]
    },
    {
      "cell_type": "markdown",
      "metadata": {
        "id": "pKMXleHbjIdh"
      },
      "source": [
        "## Split the dataset into train, valid and test"
      ]
    },
    {
      "cell_type": "code",
      "metadata": {
        "colab": {
          "base_uri": "https://localhost:8080/"
        },
        "id": "Mj6PjsJtIR3L",
        "outputId": "7efec582-4b69-4cce-e8b9-92011013a593"
      },
      "source": [
        "ticker_column = pd.Categorical(stocks_df['ticker'])\n",
        "stocks_df['ticker'] = ticker_column\n",
        "stocks_df['ticker'] = stocks_df.ticker.cat.codes\n",
        "\n",
        "split_config = {\n",
        "    'test_dt': pd.Timestamp('2020-01-01'), # 2020 onwards goes into test.\n",
        "    'valid_dt': pd.Timestamp('2015-01-01'),\n",
        "}\n",
        "\n",
        "test_df = stocks_df.query('Date >= @test_dt', local_dict=split_config).copy()\n",
        "train_df = stocks_df.query('Date < @valid_dt', local_dict=split_config).copy()\n",
        "valid_df = stocks_df.query('Date >= @valid_dt and Date < @test_dt', local_dict=split_config).copy()\n",
        "\n",
        "print(f'Train: {len(train_df)} Valid: {len(valid_df)} Test: {len(test_df)}')"
      ],
      "execution_count": null,
      "outputs": [
        {
          "output_type": "stream",
          "name": "stdout",
          "text": [
            "Train: 139260 Valid: 28934 Test: 8970\n"
          ]
        }
      ]
    },
    {
      "cell_type": "markdown",
      "metadata": {
        "id": "5Be9FR-LjOXx"
      },
      "source": [
        "## Scale the numerical columns and add LABEL\n"
      ]
    },
    {
      "cell_type": "code",
      "metadata": {
        "colab": {
          "base_uri": "https://localhost:8080/",
          "height": 359
        },
        "id": "Zu4hOns2IVdK",
        "outputId": "27d8dcdf-307c-4536-f24e-6c8389dce862"
      },
      "source": [
        "columns_to_scale = list(set(train_df.columns) - {'Date', 'ticker', 'LABEL'})\n",
        "\n",
        "std_scaler = StandardScaler()\n",
        "\n",
        "def convert_df(df, fit_scaler=False):\n",
        "  df.fillna(-1, inplace=True)\n",
        "  for c, d in zip(df.columns, df.dtypes):\n",
        "    if d == np.float64:\n",
        "      df[c].astype('float32', copy=False)\n",
        "  \n",
        "  scaler_func = std_scaler.fit_transform if fit_scaler else std_scaler.transform\n",
        "  df.loc[:, columns_to_scale] = scaler_func(df[columns_to_scale])\n",
        "\n",
        "  return df\n",
        "\n",
        "\n",
        "train_df = convert_df(train_df, fit_scaler=True)\n",
        "valid_df = convert_df(valid_df, fit_scaler=False)\n",
        "test_df = convert_df(test_df, fit_scaler=False)\n",
        "\n",
        "train_df.head(10)"
      ],
      "execution_count": null,
      "outputs": [
        {
          "output_type": "execute_result",
          "data": {
            "text/html": [
              "<div>\n",
              "<style scoped>\n",
              "    .dataframe tbody tr th:only-of-type {\n",
              "        vertical-align: middle;\n",
              "    }\n",
              "\n",
              "    .dataframe tbody tr th {\n",
              "        vertical-align: top;\n",
              "    }\n",
              "\n",
              "    .dataframe thead th {\n",
              "        text-align: right;\n",
              "    }\n",
              "</style>\n",
              "<table border=\"1\" class=\"dataframe\">\n",
              "  <thead>\n",
              "    <tr style=\"text-align: right;\">\n",
              "      <th></th>\n",
              "      <th>ticker</th>\n",
              "      <th>Date</th>\n",
              "      <th>LABEL</th>\n",
              "      <th>High</th>\n",
              "      <th>Low</th>\n",
              "      <th>Close</th>\n",
              "      <th>Open</th>\n",
              "      <th>High_1</th>\n",
              "      <th>Low_1</th>\n",
              "      <th>Close_1</th>\n",
              "      <th>Open_1</th>\n",
              "    </tr>\n",
              "  </thead>\n",
              "  <tbody>\n",
              "    <tr>\n",
              "      <th>147348</th>\n",
              "      <td>5</td>\n",
              "      <td>1991-04-01</td>\n",
              "      <td>1.03</td>\n",
              "      <td>-0.36</td>\n",
              "      <td>-0.35</td>\n",
              "      <td>-0.35</td>\n",
              "      <td>-0.35</td>\n",
              "      <td>-0.35</td>\n",
              "      <td>-0.35</td>\n",
              "      <td>-0.35</td>\n",
              "      <td>-0.35</td>\n",
              "    </tr>\n",
              "    <tr>\n",
              "      <th>23857</th>\n",
              "      <td>13</td>\n",
              "      <td>2011-08-24</td>\n",
              "      <td>1.05</td>\n",
              "      <td>0.12</td>\n",
              "      <td>0.10</td>\n",
              "      <td>0.11</td>\n",
              "      <td>0.12</td>\n",
              "      <td>0.12</td>\n",
              "      <td>0.09</td>\n",
              "      <td>0.13</td>\n",
              "      <td>0.09</td>\n",
              "    </tr>\n",
              "    <tr>\n",
              "      <th>100623</th>\n",
              "      <td>12</td>\n",
              "      <td>2006-12-05</td>\n",
              "      <td>1.00</td>\n",
              "      <td>-0.07</td>\n",
              "      <td>-0.07</td>\n",
              "      <td>-0.07</td>\n",
              "      <td>-0.07</td>\n",
              "      <td>-0.07</td>\n",
              "      <td>-0.07</td>\n",
              "      <td>-0.07</td>\n",
              "      <td>-0.07</td>\n",
              "    </tr>\n",
              "    <tr>\n",
              "      <th>99527</th>\n",
              "      <td>12</td>\n",
              "      <td>2002-07-31</td>\n",
              "      <td>0.94</td>\n",
              "      <td>-0.20</td>\n",
              "      <td>-0.20</td>\n",
              "      <td>-0.20</td>\n",
              "      <td>-0.20</td>\n",
              "      <td>-0.19</td>\n",
              "      <td>-0.20</td>\n",
              "      <td>-0.19</td>\n",
              "      <td>-0.20</td>\n",
              "    </tr>\n",
              "    <tr>\n",
              "      <th>6641</th>\n",
              "      <td>16</td>\n",
              "      <td>1999-06-08</td>\n",
              "      <td>1.06</td>\n",
              "      <td>0.38</td>\n",
              "      <td>0.39</td>\n",
              "      <td>0.39</td>\n",
              "      <td>0.39</td>\n",
              "      <td>0.38</td>\n",
              "      <td>0.39</td>\n",
              "      <td>0.38</td>\n",
              "      <td>0.38</td>\n",
              "    </tr>\n",
              "    <tr>\n",
              "      <th>150940</th>\n",
              "      <td>5</td>\n",
              "      <td>2005-06-28</td>\n",
              "      <td>0.97</td>\n",
              "      <td>-0.08</td>\n",
              "      <td>-0.08</td>\n",
              "      <td>-0.08</td>\n",
              "      <td>-0.08</td>\n",
              "      <td>-0.08</td>\n",
              "      <td>-0.08</td>\n",
              "      <td>-0.08</td>\n",
              "      <td>-0.08</td>\n",
              "    </tr>\n",
              "    <tr>\n",
              "      <th>149439</th>\n",
              "      <td>5</td>\n",
              "      <td>1999-07-09</td>\n",
              "      <td>1.02</td>\n",
              "      <td>-0.08</td>\n",
              "      <td>-0.08</td>\n",
              "      <td>-0.08</td>\n",
              "      <td>-0.07</td>\n",
              "      <td>-0.08</td>\n",
              "      <td>-0.07</td>\n",
              "      <td>-0.07</td>\n",
              "      <td>-0.07</td>\n",
              "    </tr>\n",
              "    <tr>\n",
              "      <th>16626</th>\n",
              "      <td>19</td>\n",
              "      <td>2002-02-06</td>\n",
              "      <td>1.01</td>\n",
              "      <td>-0.31</td>\n",
              "      <td>-0.31</td>\n",
              "      <td>-0.31</td>\n",
              "      <td>-0.31</td>\n",
              "      <td>-0.31</td>\n",
              "      <td>-0.31</td>\n",
              "      <td>-0.31</td>\n",
              "      <td>-0.31</td>\n",
              "    </tr>\n",
              "    <tr>\n",
              "      <th>155209</th>\n",
              "      <td>10</td>\n",
              "      <td>1981-02-03</td>\n",
              "      <td>1.02</td>\n",
              "      <td>-0.46</td>\n",
              "      <td>-0.46</td>\n",
              "      <td>-0.46</td>\n",
              "      <td>-0.49</td>\n",
              "      <td>-0.47</td>\n",
              "      <td>-0.46</td>\n",
              "      <td>-0.47</td>\n",
              "      <td>-0.49</td>\n",
              "    </tr>\n",
              "    <tr>\n",
              "      <th>88989</th>\n",
              "      <td>9</td>\n",
              "      <td>2005-04-21</td>\n",
              "      <td>1.01</td>\n",
              "      <td>0.35</td>\n",
              "      <td>0.36</td>\n",
              "      <td>0.35</td>\n",
              "      <td>0.35</td>\n",
              "      <td>0.36</td>\n",
              "      <td>0.36</td>\n",
              "      <td>0.35</td>\n",
              "      <td>0.36</td>\n",
              "    </tr>\n",
              "  </tbody>\n",
              "</table>\n",
              "</div>"
            ],
            "text/plain": [
              "        ticker       Date  LABEL  High  ...  High_1  Low_1  Close_1  Open_1\n",
              "147348       5 1991-04-01   1.03 -0.36  ...   -0.35  -0.35    -0.35   -0.35\n",
              "23857       13 2011-08-24   1.05  0.12  ...    0.12   0.09     0.13    0.09\n",
              "100623      12 2006-12-05   1.00 -0.07  ...   -0.07  -0.07    -0.07   -0.07\n",
              "99527       12 2002-07-31   0.94 -0.20  ...   -0.19  -0.20    -0.19   -0.20\n",
              "6641        16 1999-06-08   1.06  0.38  ...    0.38   0.39     0.38    0.38\n",
              "150940       5 2005-06-28   0.97 -0.08  ...   -0.08  -0.08    -0.08   -0.08\n",
              "149439       5 1999-07-09   1.02 -0.08  ...   -0.08  -0.07    -0.07   -0.07\n",
              "16626       19 2002-02-06   1.01 -0.31  ...   -0.31  -0.31    -0.31   -0.31\n",
              "155209      10 1981-02-03   1.02 -0.46  ...   -0.47  -0.46    -0.47   -0.49\n",
              "88989        9 2005-04-21   1.01  0.35  ...    0.36   0.36     0.35    0.36\n",
              "\n",
              "[10 rows x 11 columns]"
            ]
          },
          "metadata": {},
          "execution_count": 5
        }
      ]
    },
    {
      "cell_type": "markdown",
      "metadata": {
        "id": "Zbd9H80IjXb8"
      },
      "source": [
        "# Define StocksDataset"
      ]
    },
    {
      "cell_type": "code",
      "metadata": {
        "colab": {
          "base_uri": "https://localhost:8080/",
          "height": 255
        },
        "id": "fuhVQpUsIcDk",
        "outputId": "8ef252b4-b2fb-42be-e406-c06d4e0202b2"
      },
      "source": [
        "feature_dtype = np.float32\n",
        "feature_names = ['ticker', 'High', 'Low', 'Close', 'Open', 'High_1', 'Low_1', 'Close_1', 'Open_1']\n",
        "\n",
        "def get_features(example: Dict):\n",
        "  return np.array([example[name] for name in feature_names], dtype=feature_dtype)\n",
        "\n",
        "'''\n",
        "An alternative implementation to the one below, which is functioanaly equivalent and easier to \n",
        "understand but is extremely inefficient.\n",
        "\n",
        "def get_other_nodes(example: Dict, tickers: List[int], keyed_df: pd.DataFrame):\n",
        "  def get_snapshot(date: Text, ticker: int):\n",
        "    try:\n",
        "      return keyed_df.loc[date, ticker]\n",
        "    except KeyError:\n",
        "      return None # Some tickers might be missing for some days\n",
        "\n",
        "  nodes = []\n",
        "  for t in tickers:\n",
        "    if t != example['ticker']:\n",
        "      snapshot = get_snapshot(example['Date'], t)\n",
        "      if snapshot is not None:\n",
        "        nodes.append(get_features(snapshot))\n",
        "  return nodes\n",
        "\n",
        "def get_graph(example: Dict, tickers: List[int], keyed_df: pd.DataFrame):\n",
        "  nodes = [\n",
        "           get_features(example), # Always the first.\n",
        "           *get_other_nodes(example, tickers, keyed_df),\n",
        "  ]\n",
        "      \n",
        "  x = np.array(nodes, dtype=feature_dtype).reshape(len(nodes), len(feature_names))\n",
        "  # All nodes are connected to node 0 (features).\n",
        "  a = np.vstack([\n",
        "                 np.ones((1, len(nodes))), \n",
        "                 np.zeros((len(nodes) - 1, len(nodes))),\n",
        "  ])\n",
        "  e = None # No edge properties.\n",
        "  y = example['LABEL'] > 1.01\n",
        "  return spektral.data.Graph(x=x, a=a, y=y, e=e)\n",
        "\n",
        "class StocksDataset(spektral.data.Dataset):\n",
        "  def __init__(self, df: pd.DataFrame, **kwargs):\n",
        "    self.df = df\n",
        "    super().__init__(**kwargs)\n",
        "\n",
        "  def read(self):\n",
        "    tickers = list(self.df.ticker.unique())\n",
        "    keyed_df = self.df.set_index(['Date', 'ticker'], drop=False)\n",
        "    result = [get_graph(example, tickers, keyed_df) \n",
        "              for example in tqdm.tqdm(self.df.to_dict('records'))]\n",
        "    return result\n",
        "'''\n",
        "\n",
        "def get_graph(example: Dict, keyed_df: pd.DataFrame):\n",
        "  example_ticker = example['ticker']\n",
        "  example_date = example['Date']\n",
        "  examples_at_date = keyed_df.loc[[example_date]]\n",
        "  examples_at_date = examples_at_date.sort_values(\n",
        "      by='ticker', key=lambda ticker: ticker != example_ticker)\n",
        "  \n",
        "  nodes = [get_features(example) for example in examples_at_date.to_dict('records')]\n",
        "      \n",
        "  x = np.array(nodes, dtype=feature_dtype).reshape(len(nodes), len(feature_names))\n",
        "  # All nodes are connected to node 0 (features).\n",
        "  a = np.vstack([\n",
        "                 np.ones((1, len(nodes))), \n",
        "                 np.zeros((len(nodes) - 1, len(nodes))),\n",
        "  ])\n",
        "  e = None # No edge features.\n",
        "  y = example['LABEL'] > 1.01\n",
        "  return spektral.data.Graph(x=x, a=a, y=y, e=e)\n",
        "\n",
        "class StocksDataset(spektral.data.Dataset):\n",
        "  def __init__(self, df: pd.DataFrame, **kwargs):\n",
        "    self.df = df\n",
        "    super().__init__(**kwargs)\n",
        "\n",
        "  def read(self):\n",
        "    keyed_df = self.df.set_index(['Date'], drop=False)\n",
        "    result = [get_graph(example, keyed_df) for example in tqdm.tqdm(self.df.to_dict('records'))]\n",
        "    return result\n",
        "\n",
        "train_ds = StocksDataset(train_df.tail(20000))\n",
        "display(train_ds)\n",
        "\n",
        "valid_ds = StocksDataset(valid_df.tail(10000))\n",
        "\n",
        "print('Element 0:')\n",
        "\n",
        "display(train_ds[0].x)\n",
        "display(train_ds[0].a)"
      ],
      "execution_count": null,
      "outputs": [
        {
          "output_type": "stream",
          "name": "stderr",
          "text": [
            "100%|██████████| 20000/20000 [01:59<00:00, 168.06it/s]\n"
          ]
        },
        {
          "output_type": "display_data",
          "data": {
            "text/plain": [
              "StocksDataset(n_graphs=20000)"
            ]
          },
          "metadata": {}
        },
        {
          "output_type": "stream",
          "name": "stderr",
          "text": [
            "100%|██████████| 10000/10000 [00:44<00:00, 224.91it/s]"
          ]
        },
        {
          "output_type": "stream",
          "name": "stdout",
          "text": [
            "Element 0:\n"
          ]
        },
        {
          "output_type": "stream",
          "name": "stderr",
          "text": [
            "\n"
          ]
        },
        {
          "output_type": "display_data",
          "data": {
            "text/plain": [
              "array([[ 5.        , -0.13475956, -0.16012122, -0.13788772, -0.15932983,\n",
              "        -0.16217388, -0.16259225, -0.1631808 , -0.16041042],\n",
              "       [ 9.        ,  0.19871637,  0.20022704,  0.20510918,  0.2062836 ,\n",
              "         0.20177215,  0.20472611,  0.20035422,  0.20304635],\n",
              "       [12.        , -0.1841997 , -0.18944101, -0.1903041 , -0.19115326,\n",
              "        -0.19320543, -0.19329101, -0.1948693 , -0.18877324]],\n",
              "      dtype=float32)"
            ]
          },
          "metadata": {}
        },
        {
          "output_type": "display_data",
          "data": {
            "text/plain": [
              "array([[1., 1., 1.],\n",
              "       [0., 0., 0.],\n",
              "       [0., 0., 0.]])"
            ]
          },
          "metadata": {}
        }
      ]
    },
    {
      "cell_type": "markdown",
      "metadata": {
        "id": "E4kDSdlxjd-u"
      },
      "source": [
        "## Train"
      ]
    },
    {
      "cell_type": "code",
      "metadata": {
        "colab": {
          "base_uri": "https://localhost:8080/"
        },
        "id": "e-2D49lsIyR8",
        "outputId": "514f795e-da34-413b-d196-cb4b702d66fa"
      },
      "source": [
        "from spektral.models.general_gnn import GeneralGNN\n",
        "from spektral.data.loaders import DisjointLoader\n",
        "from tensorflow.keras.losses import BinaryCrossentropy\n",
        "\n",
        "batch_size = 1024\n",
        "\n",
        "model = GeneralGNN(\n",
        "    train_ds.n_labels, \n",
        "    hidden_activation='relu', \n",
        "    dropout=.2, \n",
        "    hidden=16, \n",
        "    pool='avg', \n",
        "    aggregate='mean',\n",
        "    activation='sigmoid', \n",
        "    batch_norm=False)\n",
        "\n",
        "model.compile(optimizer='adam', loss=BinaryCrossentropy(from_logits=False))\n",
        "\n",
        "train_loader = DisjointLoader(train_ds, batch_size=batch_size)\n",
        "\n",
        "valid_loader = DisjointLoader(valid_ds, batch_size=batch_size)\n",
        "\n",
        "model.fit(\n",
        "    train_loader.load(),\n",
        "    steps_per_epoch=train_loader.steps_per_epoch,\n",
        "    validation_data=valid_loader.load(),\n",
        "    validation_steps=valid_loader.steps_per_epoch,\n",
        "    epochs=2)"
      ],
      "execution_count": null,
      "outputs": [
        {
          "output_type": "stream",
          "name": "stdout",
          "text": [
            "Epoch 1/2\n"
          ]
        },
        {
          "output_type": "stream",
          "name": "stderr",
          "text": [
            " 70%|██████▉   | 3492/5000 [00:34<00:14, 102.31it/s]\n",
            " 34%|███▍      | 1706/5000 [00:16<00:32, 101.17it/s]\n"
          ]
        },
        {
          "output_type": "stream",
          "name": "stdout",
          "text": [
            "20/20 [==============================] - 13s 547ms/step - loss: 0.7272 - val_loss: 0.6496\n",
            "Epoch 2/2\n",
            "20/20 [==============================] - 11s 529ms/step - loss: 0.6747 - val_loss: 0.6346\n"
          ]
        },
        {
          "output_type": "execute_result",
          "data": {
            "text/plain": [
              "<keras.callbacks.History at 0x7fee37332c50>"
            ]
          },
          "metadata": {},
          "execution_count": 22
        }
      ]
    },
    {
      "cell_type": "markdown",
      "metadata": {
        "id": "adQEG4vljfF3"
      },
      "source": [
        "## Evaluate on test"
      ]
    },
    {
      "cell_type": "code",
      "metadata": {
        "colab": {
          "base_uri": "https://localhost:8080/"
        },
        "id": "5HJChVDqI0qQ",
        "outputId": "9024809e-aee6-4e8f-aaad-d59122c3569f"
      },
      "source": [
        "test_ds = StocksDataset(test_df.tail(5000))\n",
        "test_loader = DisjointLoader(test_ds, batch_size=batch_size)\n",
        "\n",
        "model.evaluate(test_loader.load(), steps=test_loader.steps_per_epoch)"
      ],
      "execution_count": null,
      "outputs": [
        {
          "output_type": "stream",
          "name": "stderr",
          "text": [
            "100%|██████████| 5000/5000 [00:18<00:00, 263.81it/s]\n"
          ]
        },
        {
          "output_type": "stream",
          "name": "stdout",
          "text": [
            "5/5 [==============================] - 2s 360ms/step - loss: 0.6671\n"
          ]
        },
        {
          "output_type": "execute_result",
          "data": {
            "text/plain": [
              "0.6671180725097656"
            ]
          },
          "metadata": {},
          "execution_count": 23
        }
      ]
    },
    {
      "cell_type": "code",
      "metadata": {
        "id": "1ayvf5ppGZx3"
      },
      "source": [
        ""
      ],
      "execution_count": null,
      "outputs": []
    }
  ]
}