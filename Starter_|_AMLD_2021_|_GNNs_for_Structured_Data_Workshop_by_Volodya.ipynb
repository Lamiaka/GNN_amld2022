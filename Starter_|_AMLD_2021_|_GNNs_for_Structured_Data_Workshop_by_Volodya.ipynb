{
  "nbformat": 4,
  "nbformat_minor": 0,
  "metadata": {
    "colab": {
      "name": "Starter | AMLD 2021 | GNNs for Structured Data Workshop by Volodya.ipynb",
      "provenance": [],
      "collapsed_sections": [],
      "include_colab_link": true
    },
    "kernelspec": {
      "name": "python3",
      "display_name": "Python 3"
    },
    "language_info": {
      "name": "python"
    }
  },
  "cells": [
    {
      "cell_type": "markdown",
      "metadata": {
        "id": "view-in-github",
        "colab_type": "text"
      },
      "source": [
        "<a href=\"https://colab.research.google.com/github/Lamiaka/GNN_amld2022/blob/main/Starter_%7C_AMLD_2021_%7C_GNNs_for_Structured_Data_Workshop_by_Volodya.ipynb\" target=\"_parent\"><img src=\"https://colab.research.google.com/assets/colab-badge.svg\" alt=\"Open In Colab\"/></a>"
      ]
    },
    {
      "cell_type": "markdown",
      "metadata": {
        "id": "5KZd8hqIqW_d"
      },
      "source": [
        "# README\n",
        "\n",
        "## Starter code for train any model warm up exercise\n",
        "\n",
        "This is an example colab for Graph Neural Networks for Strucutred Data Workshop @ AMLD 2021 by volodya@google.com\n",
        "\n",
        "Link to this colab: https://bit.ly/gnn-str-start\n",
        "\n"
      ]
    },
    {
      "cell_type": "markdown",
      "metadata": {
        "id": "X7UE4n2yqonM"
      },
      "source": [
        "# Run this section now\n",
        "\n",
        "It installs the libs"
      ]
    },
    {
      "cell_type": "code",
      "metadata": {
        "colab": {
          "base_uri": "https://localhost:8080/"
        },
        "id": "fL7TsWY4qeoG",
        "outputId": "a072b05c-315a-41da-e5a0-67da47aa0bfd"
      },
      "source": [
        "!pip install spektral\n",
        "\n",
        "!wget 'https://drive.google.com/uc?id=1m3ACccA3GLg5GFg0D9khUNnt_c10gBAK&export=download' -O stocks-with-label_3days.prq"
      ],
      "execution_count": null,
      "outputs": [
        {
          "output_type": "stream",
          "name": "stdout",
          "text": [
            "Collecting spektral\n",
            "  Downloading spektral-1.0.8-py3-none-any.whl (123 kB)\n",
            "\u001b[?25l\r\u001b[K     |██▋                             | 10 kB 17.3 MB/s eta 0:00:01\r\u001b[K     |█████▎                          | 20 kB 20.7 MB/s eta 0:00:01\r\u001b[K     |████████                        | 30 kB 24.8 MB/s eta 0:00:01\r\u001b[K     |██████████▋                     | 40 kB 21.8 MB/s eta 0:00:01\r\u001b[K     |█████████████▎                  | 51 kB 9.9 MB/s eta 0:00:01\r\u001b[K     |████████████████                | 61 kB 8.3 MB/s eta 0:00:01\r\u001b[K     |██████████████████▋             | 71 kB 8.5 MB/s eta 0:00:01\r\u001b[K     |█████████████████████▎          | 81 kB 9.5 MB/s eta 0:00:01\r\u001b[K     |████████████████████████        | 92 kB 10.4 MB/s eta 0:00:01\r\u001b[K     |██████████████████████████▌     | 102 kB 8.8 MB/s eta 0:00:01\r\u001b[K     |█████████████████████████████▏  | 112 kB 8.8 MB/s eta 0:00:01\r\u001b[K     |███████████████████████████████▉| 122 kB 8.8 MB/s eta 0:00:01\r\u001b[K     |████████████████████████████████| 123 kB 8.8 MB/s \n",
            "\u001b[?25hRequirement already satisfied: lxml in /usr/local/lib/python3.7/dist-packages (from spektral) (4.2.6)\n",
            "Requirement already satisfied: tensorflow>=2.1.0 in /usr/local/lib/python3.7/dist-packages (from spektral) (2.6.0)\n",
            "Requirement already satisfied: tqdm in /usr/local/lib/python3.7/dist-packages (from spektral) (4.62.2)\n",
            "Requirement already satisfied: numpy<1.20 in /usr/local/lib/python3.7/dist-packages (from spektral) (1.19.5)\n",
            "Requirement already satisfied: requests in /usr/local/lib/python3.7/dist-packages (from spektral) (2.23.0)\n",
            "Requirement already satisfied: scipy in /usr/local/lib/python3.7/dist-packages (from spektral) (1.4.1)\n",
            "Requirement already satisfied: scikit-learn in /usr/local/lib/python3.7/dist-packages (from spektral) (0.22.2.post1)\n",
            "Requirement already satisfied: joblib in /usr/local/lib/python3.7/dist-packages (from spektral) (1.0.1)\n",
            "Requirement already satisfied: networkx in /usr/local/lib/python3.7/dist-packages (from spektral) (2.6.3)\n",
            "Requirement already satisfied: pandas in /usr/local/lib/python3.7/dist-packages (from spektral) (1.1.5)\n",
            "Requirement already satisfied: wheel~=0.35 in /usr/local/lib/python3.7/dist-packages (from tensorflow>=2.1.0->spektral) (0.37.0)\n",
            "Requirement already satisfied: astunparse~=1.6.3 in /usr/local/lib/python3.7/dist-packages (from tensorflow>=2.1.0->spektral) (1.6.3)\n",
            "Requirement already satisfied: tensorboard~=2.6 in /usr/local/lib/python3.7/dist-packages (from tensorflow>=2.1.0->spektral) (2.6.0)\n",
            "Requirement already satisfied: protobuf>=3.9.2 in /usr/local/lib/python3.7/dist-packages (from tensorflow>=2.1.0->spektral) (3.17.3)\n",
            "Requirement already satisfied: grpcio<2.0,>=1.37.0 in /usr/local/lib/python3.7/dist-packages (from tensorflow>=2.1.0->spektral) (1.40.0)\n",
            "Requirement already satisfied: google-pasta~=0.2 in /usr/local/lib/python3.7/dist-packages (from tensorflow>=2.1.0->spektral) (0.2.0)\n",
            "Requirement already satisfied: keras~=2.6 in /usr/local/lib/python3.7/dist-packages (from tensorflow>=2.1.0->spektral) (2.6.0)\n",
            "Requirement already satisfied: tensorflow-estimator~=2.6 in /usr/local/lib/python3.7/dist-packages (from tensorflow>=2.1.0->spektral) (2.6.0)\n",
            "Requirement already satisfied: six~=1.15.0 in /usr/local/lib/python3.7/dist-packages (from tensorflow>=2.1.0->spektral) (1.15.0)\n",
            "Requirement already satisfied: opt-einsum~=3.3.0 in /usr/local/lib/python3.7/dist-packages (from tensorflow>=2.1.0->spektral) (3.3.0)\n",
            "Requirement already satisfied: h5py~=3.1.0 in /usr/local/lib/python3.7/dist-packages (from tensorflow>=2.1.0->spektral) (3.1.0)\n",
            "Requirement already satisfied: absl-py~=0.10 in /usr/local/lib/python3.7/dist-packages (from tensorflow>=2.1.0->spektral) (0.12.0)\n",
            "Requirement already satisfied: typing-extensions~=3.7.4 in /usr/local/lib/python3.7/dist-packages (from tensorflow>=2.1.0->spektral) (3.7.4.3)\n",
            "Requirement already satisfied: clang~=5.0 in /usr/local/lib/python3.7/dist-packages (from tensorflow>=2.1.0->spektral) (5.0)\n",
            "Requirement already satisfied: flatbuffers~=1.12.0 in /usr/local/lib/python3.7/dist-packages (from tensorflow>=2.1.0->spektral) (1.12)\n",
            "Requirement already satisfied: termcolor~=1.1.0 in /usr/local/lib/python3.7/dist-packages (from tensorflow>=2.1.0->spektral) (1.1.0)\n",
            "Requirement already satisfied: wrapt~=1.12.1 in /usr/local/lib/python3.7/dist-packages (from tensorflow>=2.1.0->spektral) (1.12.1)\n",
            "Requirement already satisfied: gast==0.4.0 in /usr/local/lib/python3.7/dist-packages (from tensorflow>=2.1.0->spektral) (0.4.0)\n",
            "Requirement already satisfied: keras-preprocessing~=1.1.2 in /usr/local/lib/python3.7/dist-packages (from tensorflow>=2.1.0->spektral) (1.1.2)\n",
            "Requirement already satisfied: cached-property in /usr/local/lib/python3.7/dist-packages (from h5py~=3.1.0->tensorflow>=2.1.0->spektral) (1.5.2)\n",
            "Requirement already satisfied: markdown>=2.6.8 in /usr/local/lib/python3.7/dist-packages (from tensorboard~=2.6->tensorflow>=2.1.0->spektral) (3.3.4)\n",
            "Requirement already satisfied: google-auth-oauthlib<0.5,>=0.4.1 in /usr/local/lib/python3.7/dist-packages (from tensorboard~=2.6->tensorflow>=2.1.0->spektral) (0.4.6)\n",
            "Requirement already satisfied: tensorboard-plugin-wit>=1.6.0 in /usr/local/lib/python3.7/dist-packages (from tensorboard~=2.6->tensorflow>=2.1.0->spektral) (1.8.0)\n",
            "Requirement already satisfied: setuptools>=41.0.0 in /usr/local/lib/python3.7/dist-packages (from tensorboard~=2.6->tensorflow>=2.1.0->spektral) (57.4.0)\n",
            "Requirement already satisfied: google-auth<2,>=1.6.3 in /usr/local/lib/python3.7/dist-packages (from tensorboard~=2.6->tensorflow>=2.1.0->spektral) (1.35.0)\n",
            "Requirement already satisfied: tensorboard-data-server<0.7.0,>=0.6.0 in /usr/local/lib/python3.7/dist-packages (from tensorboard~=2.6->tensorflow>=2.1.0->spektral) (0.6.1)\n",
            "Requirement already satisfied: werkzeug>=0.11.15 in /usr/local/lib/python3.7/dist-packages (from tensorboard~=2.6->tensorflow>=2.1.0->spektral) (1.0.1)\n",
            "Requirement already satisfied: cachetools<5.0,>=2.0.0 in /usr/local/lib/python3.7/dist-packages (from google-auth<2,>=1.6.3->tensorboard~=2.6->tensorflow>=2.1.0->spektral) (4.2.2)\n",
            "Requirement already satisfied: rsa<5,>=3.1.4 in /usr/local/lib/python3.7/dist-packages (from google-auth<2,>=1.6.3->tensorboard~=2.6->tensorflow>=2.1.0->spektral) (4.7.2)\n",
            "Requirement already satisfied: pyasn1-modules>=0.2.1 in /usr/local/lib/python3.7/dist-packages (from google-auth<2,>=1.6.3->tensorboard~=2.6->tensorflow>=2.1.0->spektral) (0.2.8)\n",
            "Requirement already satisfied: requests-oauthlib>=0.7.0 in /usr/local/lib/python3.7/dist-packages (from google-auth-oauthlib<0.5,>=0.4.1->tensorboard~=2.6->tensorflow>=2.1.0->spektral) (1.3.0)\n",
            "Requirement already satisfied: importlib-metadata in /usr/local/lib/python3.7/dist-packages (from markdown>=2.6.8->tensorboard~=2.6->tensorflow>=2.1.0->spektral) (4.8.1)\n",
            "Requirement already satisfied: pyasn1<0.5.0,>=0.4.6 in /usr/local/lib/python3.7/dist-packages (from pyasn1-modules>=0.2.1->google-auth<2,>=1.6.3->tensorboard~=2.6->tensorflow>=2.1.0->spektral) (0.4.8)\n",
            "Requirement already satisfied: idna<3,>=2.5 in /usr/local/lib/python3.7/dist-packages (from requests->spektral) (2.10)\n",
            "Requirement already satisfied: certifi>=2017.4.17 in /usr/local/lib/python3.7/dist-packages (from requests->spektral) (2021.5.30)\n",
            "Requirement already satisfied: urllib3!=1.25.0,!=1.25.1,<1.26,>=1.21.1 in /usr/local/lib/python3.7/dist-packages (from requests->spektral) (1.24.3)\n",
            "Requirement already satisfied: chardet<4,>=3.0.2 in /usr/local/lib/python3.7/dist-packages (from requests->spektral) (3.0.4)\n",
            "Requirement already satisfied: oauthlib>=3.0.0 in /usr/local/lib/python3.7/dist-packages (from requests-oauthlib>=0.7.0->google-auth-oauthlib<0.5,>=0.4.1->tensorboard~=2.6->tensorflow>=2.1.0->spektral) (3.1.1)\n",
            "Requirement already satisfied: zipp>=0.5 in /usr/local/lib/python3.7/dist-packages (from importlib-metadata->markdown>=2.6.8->tensorboard~=2.6->tensorflow>=2.1.0->spektral) (3.5.0)\n",
            "Requirement already satisfied: pytz>=2017.2 in /usr/local/lib/python3.7/dist-packages (from pandas->spektral) (2018.9)\n",
            "Requirement already satisfied: python-dateutil>=2.7.3 in /usr/local/lib/python3.7/dist-packages (from pandas->spektral) (2.8.2)\n",
            "Installing collected packages: spektral\n",
            "Successfully installed spektral-1.0.8\n",
            "--2021-09-28 00:37:25--  https://drive.google.com/uc?id=1m3ACccA3GLg5GFg0D9khUNnt_c10gBAK&export=download\n",
            "Resolving drive.google.com (drive.google.com)... 74.125.195.113, 74.125.195.101, 74.125.195.102, ...\n",
            "Connecting to drive.google.com (drive.google.com)|74.125.195.113|:443... connected.\n",
            "HTTP request sent, awaiting response... 302 Moved Temporarily\n",
            "Location: https://doc-08-5c-docs.googleusercontent.com/docs/securesc/ha0ro937gcuc7l7deffksulhg5h7mbp1/ifistt5r00bh1rb2dm4klc2kj06f5nhk/1632789375000/01333786639642341364/*/1m3ACccA3GLg5GFg0D9khUNnt_c10gBAK?e=download [following]\n",
            "Warning: wildcards not supported in HTTP.\n",
            "--2021-09-28 00:37:27--  https://doc-08-5c-docs.googleusercontent.com/docs/securesc/ha0ro937gcuc7l7deffksulhg5h7mbp1/ifistt5r00bh1rb2dm4klc2kj06f5nhk/1632789375000/01333786639642341364/*/1m3ACccA3GLg5GFg0D9khUNnt_c10gBAK?e=download\n",
            "Resolving doc-08-5c-docs.googleusercontent.com (doc-08-5c-docs.googleusercontent.com)... 108.177.98.132, 2607:f8b0:400e:c06::84\n",
            "Connecting to doc-08-5c-docs.googleusercontent.com (doc-08-5c-docs.googleusercontent.com)|108.177.98.132|:443... connected.\n",
            "HTTP request sent, awaiting response... 200 OK\n",
            "Length: unspecified [application/octet-stream]\n",
            "Saving to: ‘stocks-with-label_3days.prq’\n",
            "\n",
            "stocks-with-label_3     [  <=>               ]  14.45M  51.4MB/s    in 0.3s    \n",
            "\n",
            "2021-09-28 00:37:28 (51.4 MB/s) - ‘stocks-with-label_3days.prq’ saved [15147853]\n",
            "\n"
          ]
        }
      ]
    },
    {
      "cell_type": "markdown",
      "metadata": {
        "id": "-WRY2U3WwbU8"
      },
      "source": [
        "# Common imports and functionality"
      ]
    },
    {
      "cell_type": "code",
      "metadata": {
        "id": "v3QnokwtrJYV"
      },
      "source": [
        "import tensorflow as tf\n",
        "from datetime import date\n",
        "import pandas as pd\n",
        "import numpy as np\n",
        "import os\n",
        "\n",
        "import matplotlib.pyplot as plt\n",
        "import seaborn as sb\n",
        "\n",
        "from sklearn.preprocessing import StandardScaler\n",
        "\n",
        "pd.options.display.float_format = '{:,.2f}'.format"
      ],
      "execution_count": null,
      "outputs": []
    },
    {
      "cell_type": "code",
      "metadata": {
        "colab": {
          "base_uri": "https://localhost:8080/",
          "height": 204
        },
        "id": "4Wrf0bfXq0GS",
        "outputId": "e4bb1862-25b9-4089-df5f-381d35999971"
      },
      "source": [
        "stocks_df = pd.read_parquet('stocks-with-label_3days.prq')\n",
        "\n",
        "stocks_df.sample(5)"
      ],
      "execution_count": null,
      "outputs": [
        {
          "output_type": "execute_result",
          "data": {
            "text/html": [
              "<div>\n",
              "<style scoped>\n",
              "    .dataframe tbody tr th:only-of-type {\n",
              "        vertical-align: middle;\n",
              "    }\n",
              "\n",
              "    .dataframe tbody tr th {\n",
              "        vertical-align: top;\n",
              "    }\n",
              "\n",
              "    .dataframe thead th {\n",
              "        text-align: right;\n",
              "    }\n",
              "</style>\n",
              "<table border=\"1\" class=\"dataframe\">\n",
              "  <thead>\n",
              "    <tr style=\"text-align: right;\">\n",
              "      <th></th>\n",
              "      <th>ticker</th>\n",
              "      <th>Date</th>\n",
              "      <th>LABEL</th>\n",
              "      <th>High</th>\n",
              "      <th>Low</th>\n",
              "      <th>Close</th>\n",
              "      <th>Open</th>\n",
              "      <th>High_1</th>\n",
              "      <th>Low_1</th>\n",
              "      <th>Close_1</th>\n",
              "      <th>Open_1</th>\n",
              "    </tr>\n",
              "  </thead>\n",
              "  <tbody>\n",
              "    <tr>\n",
              "      <th>144504</th>\n",
              "      <td>DIS</td>\n",
              "      <td>1979-12-27</td>\n",
              "      <td>1.01</td>\n",
              "      <td>0.62</td>\n",
              "      <td>0.61</td>\n",
              "      <td>0.61</td>\n",
              "      <td>0.61</td>\n",
              "      <td>0.61</td>\n",
              "      <td>0.58</td>\n",
              "      <td>0.61</td>\n",
              "      <td>0.59</td>\n",
              "    </tr>\n",
              "    <tr>\n",
              "      <th>125466</th>\n",
              "      <td>BRK-B</td>\n",
              "      <td>2018-09-14</td>\n",
              "      <td>1.00</td>\n",
              "      <td>216.51</td>\n",
              "      <td>215.30</td>\n",
              "      <td>216.37</td>\n",
              "      <td>215.50</td>\n",
              "      <td>215.42</td>\n",
              "      <td>214.17</td>\n",
              "      <td>214.89</td>\n",
              "      <td>215.02</td>\n",
              "    </tr>\n",
              "    <tr>\n",
              "      <th>116435</th>\n",
              "      <td>BAC</td>\n",
              "      <td>2008-01-15</td>\n",
              "      <td>0.95</td>\n",
              "      <td>30.96</td>\n",
              "      <td>30.17</td>\n",
              "      <td>30.23</td>\n",
              "      <td>30.96</td>\n",
              "      <td>31.36</td>\n",
              "      <td>30.65</td>\n",
              "      <td>31.30</td>\n",
              "      <td>30.93</td>\n",
              "    </tr>\n",
              "    <tr>\n",
              "      <th>175580</th>\n",
              "      <td>AAPL</td>\n",
              "      <td>2014-06-05</td>\n",
              "      <td>1.01</td>\n",
              "      <td>20.86</td>\n",
              "      <td>20.65</td>\n",
              "      <td>20.80</td>\n",
              "      <td>20.76</td>\n",
              "      <td>20.82</td>\n",
              "      <td>20.44</td>\n",
              "      <td>20.72</td>\n",
              "      <td>20.48</td>\n",
              "    </tr>\n",
              "    <tr>\n",
              "      <th>77250</th>\n",
              "      <td>WMT</td>\n",
              "      <td>2018-03-12</td>\n",
              "      <td>0.99</td>\n",
              "      <td>84.05</td>\n",
              "      <td>82.58</td>\n",
              "      <td>82.76</td>\n",
              "      <td>83.35</td>\n",
              "      <td>83.37</td>\n",
              "      <td>82.25</td>\n",
              "      <td>83.37</td>\n",
              "      <td>82.92</td>\n",
              "    </tr>\n",
              "  </tbody>\n",
              "</table>\n",
              "</div>"
            ],
            "text/plain": [
              "       ticker       Date  LABEL   High  ...  High_1  Low_1  Close_1  Open_1\n",
              "144504    DIS 1979-12-27   1.01   0.62  ...    0.61   0.58     0.61    0.59\n",
              "125466  BRK-B 2018-09-14   1.00 216.51  ...  215.42 214.17   214.89  215.02\n",
              "116435    BAC 2008-01-15   0.95  30.96  ...   31.36  30.65    31.30   30.93\n",
              "175580   AAPL 2014-06-05   1.01  20.86  ...   20.82  20.44    20.72   20.48\n",
              "77250     WMT 2018-03-12   0.99  84.05  ...   83.37  82.25    83.37   82.92\n",
              "\n",
              "[5 rows x 11 columns]"
            ]
          },
          "metadata": {},
          "execution_count": 3
        }
      ]
    },
    {
      "cell_type": "code",
      "metadata": {
        "colab": {
          "base_uri": "https://localhost:8080/",
          "height": 345
        },
        "id": "tcryFe_Awg7U",
        "outputId": "06d308db-6738-4d52-b514-6b51af6f781a"
      },
      "source": [
        "print('# Examples', len(stocks_df))\n",
        "stocks_df.describe().transpose().drop(columns=['count'])"
      ],
      "execution_count": null,
      "outputs": [
        {
          "output_type": "stream",
          "name": "stdout",
          "text": [
            "# Examples 177164\n"
          ]
        },
        {
          "output_type": "execute_result",
          "data": {
            "text/html": [
              "<div>\n",
              "<style scoped>\n",
              "    .dataframe tbody tr th:only-of-type {\n",
              "        vertical-align: middle;\n",
              "    }\n",
              "\n",
              "    .dataframe tbody tr th {\n",
              "        vertical-align: top;\n",
              "    }\n",
              "\n",
              "    .dataframe thead th {\n",
              "        text-align: right;\n",
              "    }\n",
              "</style>\n",
              "<table border=\"1\" class=\"dataframe\">\n",
              "  <thead>\n",
              "    <tr style=\"text-align: right;\">\n",
              "      <th></th>\n",
              "      <th>mean</th>\n",
              "      <th>std</th>\n",
              "      <th>min</th>\n",
              "      <th>25%</th>\n",
              "      <th>50%</th>\n",
              "      <th>75%</th>\n",
              "      <th>max</th>\n",
              "    </tr>\n",
              "  </thead>\n",
              "  <tbody>\n",
              "    <tr>\n",
              "      <th>LABEL</th>\n",
              "      <td>1.00</td>\n",
              "      <td>0.03</td>\n",
              "      <td>0.49</td>\n",
              "      <td>0.99</td>\n",
              "      <td>1.00</td>\n",
              "      <td>1.02</td>\n",
              "      <td>1.68</td>\n",
              "    </tr>\n",
              "    <tr>\n",
              "      <th>High</th>\n",
              "      <td>68.05</td>\n",
              "      <td>216.16</td>\n",
              "      <td>0.01</td>\n",
              "      <td>3.30</td>\n",
              "      <td>19.59</td>\n",
              "      <td>50.78</td>\n",
              "      <td>3,773.08</td>\n",
              "    </tr>\n",
              "    <tr>\n",
              "      <th>Low</th>\n",
              "      <td>66.60</td>\n",
              "      <td>211.48</td>\n",
              "      <td>0.01</td>\n",
              "      <td>3.20</td>\n",
              "      <td>19.09</td>\n",
              "      <td>49.86</td>\n",
              "      <td>3,696.79</td>\n",
              "    </tr>\n",
              "    <tr>\n",
              "      <th>Close</th>\n",
              "      <td>67.35</td>\n",
              "      <td>213.88</td>\n",
              "      <td>0.01</td>\n",
              "      <td>3.25</td>\n",
              "      <td>19.34</td>\n",
              "      <td>50.33</td>\n",
              "      <td>3,731.41</td>\n",
              "    </tr>\n",
              "    <tr>\n",
              "      <th>Open</th>\n",
              "      <td>67.30</td>\n",
              "      <td>213.91</td>\n",
              "      <td>0.00</td>\n",
              "      <td>3.21</td>\n",
              "      <td>19.34</td>\n",
              "      <td>50.32</td>\n",
              "      <td>3,744.00</td>\n",
              "    </tr>\n",
              "    <tr>\n",
              "      <th>High_1</th>\n",
              "      <td>68.02</td>\n",
              "      <td>215.96</td>\n",
              "      <td>0.01</td>\n",
              "      <td>3.31</td>\n",
              "      <td>19.60</td>\n",
              "      <td>50.79</td>\n",
              "      <td>3,773.08</td>\n",
              "    </tr>\n",
              "    <tr>\n",
              "      <th>Low_1</th>\n",
              "      <td>66.58</td>\n",
              "      <td>211.28</td>\n",
              "      <td>0.01</td>\n",
              "      <td>3.21</td>\n",
              "      <td>19.10</td>\n",
              "      <td>49.87</td>\n",
              "      <td>3,696.79</td>\n",
              "    </tr>\n",
              "    <tr>\n",
              "      <th>Close_1</th>\n",
              "      <td>67.33</td>\n",
              "      <td>213.67</td>\n",
              "      <td>0.01</td>\n",
              "      <td>3.26</td>\n",
              "      <td>19.36</td>\n",
              "      <td>50.35</td>\n",
              "      <td>3,731.41</td>\n",
              "    </tr>\n",
              "    <tr>\n",
              "      <th>Open_1</th>\n",
              "      <td>67.28</td>\n",
              "      <td>213.71</td>\n",
              "      <td>0.00</td>\n",
              "      <td>3.23</td>\n",
              "      <td>19.36</td>\n",
              "      <td>50.33</td>\n",
              "      <td>3,744.00</td>\n",
              "    </tr>\n",
              "  </tbody>\n",
              "</table>\n",
              "</div>"
            ],
            "text/plain": [
              "         mean    std  min  25%   50%   75%      max\n",
              "LABEL    1.00   0.03 0.49 0.99  1.00  1.02     1.68\n",
              "High    68.05 216.16 0.01 3.30 19.59 50.78 3,773.08\n",
              "Low     66.60 211.48 0.01 3.20 19.09 49.86 3,696.79\n",
              "Close   67.35 213.88 0.01 3.25 19.34 50.33 3,731.41\n",
              "Open    67.30 213.91 0.00 3.21 19.34 50.32 3,744.00\n",
              "High_1  68.02 215.96 0.01 3.31 19.60 50.79 3,773.08\n",
              "Low_1   66.58 211.28 0.01 3.21 19.10 49.87 3,696.79\n",
              "Close_1 67.33 213.67 0.01 3.26 19.36 50.35 3,731.41\n",
              "Open_1  67.28 213.71 0.00 3.23 19.36 50.33 3,744.00"
            ]
          },
          "metadata": {},
          "execution_count": 4
        }
      ]
    },
    {
      "cell_type": "code",
      "metadata": {
        "id": "2aqoLT-BrXEN"
      },
      "source": [
        "ticker_column = pd.Categorical(stocks_df['ticker'])\n",
        "stocks_df['ticker'] = ticker_column\n",
        "stocks_df['ticker'] = stocks_df.ticker.cat.codes"
      ],
      "execution_count": null,
      "outputs": []
    },
    {
      "cell_type": "code",
      "metadata": {
        "colab": {
          "base_uri": "https://localhost:8080/"
        },
        "id": "J2_sacYDsSoS",
        "outputId": "31ab6a1e-84b9-4ca0-c99a-97a16e6e13e9"
      },
      "source": [
        "split_config = {\n",
        "    'test_dt': pd.Timestamp('2020-01-01'), # 2020 onwards goes into test.\n",
        "    'valid_dt': pd.Timestamp('2015-01-01'),\n",
        "}\n",
        "\n",
        "test_df = stocks_df.query('Date >= @test_dt', local_dict=split_config).copy()\n",
        "train_df = stocks_df.query('Date < @valid_dt', local_dict=split_config).copy()\n",
        "valid_df = stocks_df.query('Date >= @valid_dt and Date < @test_dt', local_dict=split_config).copy()\n",
        "\n",
        "print(f'Train: {len(train_df)} Valid: {len(valid_df)} Test: {len(test_df)}')"
      ],
      "execution_count": null,
      "outputs": [
        {
          "output_type": "stream",
          "name": "stdout",
          "text": [
            "Train: 139260 Valid: 28934 Test: 8970\n"
          ]
        }
      ]
    },
    {
      "cell_type": "code",
      "metadata": {
        "id": "zV9XkZ0wwvGm"
      },
      "source": [
        ""
      ],
      "execution_count": null,
      "outputs": []
    }
  ]
}